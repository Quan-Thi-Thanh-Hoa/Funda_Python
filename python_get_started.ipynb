{
 "cells": [
  {
   "cell_type": "markdown",
   "metadata": {},
   "source": [
    "# **Python: Getting Started**"
   ]
  },
  {
   "cell_type": "markdown",
   "metadata": {},
   "source": [
    "## Tính toán đơn giản"
   ]
  },
  {
   "cell_type": "markdown",
   "metadata": {},
   "source": [
    "Ngoài tất cả những thứ phức tạp hơn bạn có thể làm bằng Python, nó cũng hữu ích để hoàn thành các phép toán đơn giản"
   ]
  },
  {
   "cell_type": "markdown",
   "metadata": {},
   "source": [
    "**Cộng và trừ**"
   ]
  },
  {
   "cell_type": "markdown",
   "metadata": {},
   "source": [
    "Cộng một số lại với nhau sẽ như thế này"
   ]
  },
  {
   "cell_type": "code",
   "execution_count": 1,
   "metadata": {},
   "outputs": [
    {
     "data": {
      "text/plain": [
       "2"
      ]
     },
     "execution_count": 1,
     "metadata": {},
     "output_type": "execute_result"
    }
   ],
   "source": [
    "1 + 1"
   ]
  },
  {
   "cell_type": "markdown",
   "metadata": {},
   "source": [
    "Chú ý rằng bạn không cần phải bao gồm **=** để chạy được mã code"
   ]
  },
  {
   "cell_type": "markdown",
   "metadata": {},
   "source": [
    "Trừ các số với nhau sẽ như thế này"
   ]
  },
  {
   "cell_type": "code",
   "execution_count": 2,
   "metadata": {},
   "outputs": [
    {
     "data": {
      "text/plain": [
       "1"
      ]
     },
     "execution_count": 2,
     "metadata": {},
     "output_type": "execute_result"
    }
   ],
   "source": [
    "2 - 1"
   ]
  },
  {
   "cell_type": "markdown",
   "metadata": {},
   "source": [
    "**Phép chia**"
   ]
  },
  {
   "cell_type": "markdown",
   "metadata": {},
   "source": [
    "Chia một số sẽ như thế này"
   ]
  },
  {
   "cell_type": "code",
   "execution_count": 3,
   "metadata": {},
   "outputs": [
    {
     "data": {
      "text/plain": [
       "2.0"
      ]
     },
     "execution_count": 3,
     "metadata": {},
     "output_type": "execute_result"
    }
   ],
   "source": [
    "4 / 2"
   ]
  },
  {
   "cell_type": "markdown",
   "metadata": {},
   "source": [
    "Hãy nhớ rằng Python sẽ trả về lỗi nếu bạn chia cho 0!"
   ]
  },
  {
   "cell_type": "markdown",
   "metadata": {},
   "source": [
    "**Tìm số dư**"
   ]
  },
  {
   "cell_type": "markdown",
   "metadata": {},
   "source": [
    "Thực hiện chia lấy phần dư sẽ như thế này"
   ]
  },
  {
   "cell_type": "code",
   "execution_count": 4,
   "metadata": {},
   "outputs": [
    {
     "data": {
      "text/plain": [
       "1"
      ]
     },
     "execution_count": 4,
     "metadata": {},
     "output_type": "execute_result"
    }
   ],
   "source": [
    "5 % 2"
   ]
  },
  {
   "cell_type": "markdown",
   "metadata": {},
   "source": [
    "**Phép nhân**"
   ]
  },
  {
   "cell_type": "markdown",
   "metadata": {},
   "source": [
    "Nhân một số sẽ như thế này"
   ]
  },
  {
   "cell_type": "code",
   "execution_count": 5,
   "metadata": {},
   "outputs": [
    {
     "data": {
      "text/plain": [
       "8"
      ]
     },
     "execution_count": 5,
     "metadata": {},
     "output_type": "execute_result"
    }
   ],
   "source": [
    "4 * 2"
   ]
  },
  {
   "cell_type": "markdown",
   "metadata": {},
   "source": [
    "Thêm **số mũ** cho một số sẽ như thế này"
   ]
  },
  {
   "cell_type": "code",
   "execution_count": 6,
   "metadata": {},
   "outputs": [
    {
     "data": {
      "text/plain": [
       "16"
      ]
     },
     "execution_count": 6,
     "metadata": {},
     "output_type": "execute_result"
    }
   ],
   "source": [
    "4 ** 2"
   ]
  },
  {
   "cell_type": "markdown",
   "metadata": {},
   "source": [
    "## Thứ tự hoạt động"
   ]
  },
  {
   "cell_type": "markdown",
   "metadata": {},
   "source": [
    "Python cũng có thứ tự hoạt động cụ thể:\n",
    "\n",
    "    Dấu ngoặc đơn, Số mũ, Phép nhân, Phép cộng và phép trừ"
   ]
  },
  {
   "cell_type": "code",
   "execution_count": 7,
   "metadata": {},
   "outputs": [
    {
     "data": {
      "text/plain": [
       "14"
      ]
     },
     "execution_count": 7,
     "metadata": {},
     "output_type": "execute_result"
    }
   ],
   "source": [
    "(6 + 4) + 4"
   ]
  },
  {
   "cell_type": "markdown",
   "metadata": {},
   "source": [
    "Mọi thứ trở nên phức tạp hơn khi chúng ta thêm nhiều số hạng hơn vào phương trình, nhưng nguyên tắc vẫn như cũ"
   ]
  },
  {
   "cell_type": "code",
   "execution_count": 8,
   "metadata": {},
   "outputs": [
    {
     "data": {
      "text/plain": [
       "40.0"
      ]
     },
     "execution_count": 8,
     "metadata": {},
     "output_type": "execute_result"
    }
   ],
   "source": [
    "(((5**3 + 7) * 4) / 16 + 9 - 2)"
   ]
  },
  {
   "cell_type": "markdown",
   "metadata": {},
   "source": [
    "## Kiểu dữ liệu"
   ]
  },
  {
   "cell_type": "markdown",
   "metadata": {},
   "source": [
    "**Boolean** (bool):\n",
    "\n",
    "    Bất kỳ dữ liệu nào đều được biểu thị là Đúng hoặc Sai.\n",
    "    Được sử dụng khi so sánh hai giá trị.\n",
    "    Ví dụ: nhập vào 10 > 9, Python sẽ trả về 'True'\n",
    "\n",
    "**Chuỗi** (str):\n",
    "\n",
    "    Dữ liệu liên quan đến văn bản - chữ cái, số hoặc ký tự đặc biệt.\n",
    "    Các chuỗi được đặt trong dấu ngoặc kép đơn hoặc ngoặc kép: \"string-1\" hoặc 'string-2'.\n",
    "\n",
    "**Numeric** (int, float, complex):\n",
    "\n",
    "    Dữ liệu có thể được thể hiện bằng số.\n",
    "    Một số nguyên, hoặc int là số nguyên dương hoặc âm, không có số thập phân, có độ dài không giới hạn.\n",
    "    Số thập phân, hoặc số thực là một số dương hoặc âm, chứa một hoặc nhiều số thập phân: 12.01.\n",
    "    Số phức là các số ảo, được ký hiệu hằng j: (3 + 6j)"
   ]
  },
  {
   "cell_type": "markdown",
   "metadata": {},
   "source": [
    "**Trình tự** (list, tuple, set):\n",
    "\n",
    "    Dữ liệu là một tập hợp các mục rời rạc.\n",
    "    - A list là một tập hợp được sắp xếp và có thể thay đổi. Nó được chỉ định bằng cách sử dụng dấu ngoặc vuông [] và các mục có thể thuộc các kiểu dữ liệu khác nhau: [\"red\",1,1.03,1]\n",
    "    - Bộ tuple là một bộ sưu tập được sắp xếp theo thứ tự và không thể thay đổi. Nó được chỉ định bằng cách sử dụng dấu ngoặc đơn (): (\"read\",1,1.03,1)\n",
    "    - Set là một tập hợp không có thứ tự, không thể thay đổi và không cho phép các mục trùng lặp. Nó chỉ định bằng cách sử dụng dấu ngoặc nhọn {}: {\"red\",1,1.03}\n",
    "\n",
    "**Mapping** (dict):\n",
    "\n",
    "    Dictionaries lưu trữ dữ liệu theo cặp key-value. Chúng được chỉ định bằng cách sử dụng dấu ngoặc nhọn {}, giống như một tập hợp, nhưng lưu ý rằng các key-value được liên kết với nhau bằng dấu hai chấm:.\n",
    "    Mỗi cặp được phân tách với cặp tiếp theo bằng dấu phẩy,.\n",
    "    dict1 = {\n",
    "        \"bo_phan\": \"quindio\",\n",
    "        \"loai_tai_san\": \"nha\",\n",
    "        \"gia_tien\": 330899.98\n",
    "    }\n",
    "\n",
    "**Binary (Nhị phân)** (byte, bytearray, memoryview):\n",
    "\n",
    "    Được sử dụng để thao tác và hiển thị dữ liệu nhị phân. Đó là dữ liệu có thể được hiển thị bằng các số nguyên được biểu diễn với cơ số 2.\n",
    "    Không giống các kiểu dữ liệu khác được mô tả ở trên, kiểu nhị phân không phải là kiểu mọi người có thể đọc được."
   ]
  },
  {
   "cell_type": "markdown",
   "metadata": {},
   "source": [
    "## **List**"
   ]
  },
  {
   "cell_type": "markdown",
   "metadata": {},
   "source": [
    "Trong Python, list là một tập hợp dữ liệu lưu trữ nhiều mục trong một biến duy nhất. Các mục này phải được đặt hàng, có thể thay đổi và có thể được sao chép. Một list có thể lưu trữ dữ liệu của nhiều loại; không phải tất cả các mục trong danh sách cần phải cùng một loại.\n",
    "\n",
    "## **Tạo list**\n",
    "\n",
    "List có thể dài hoặc ngắn tùy thích. Hãy tạo một list ngắn dựa trên dữ liệu từ thị trường bất động sản Vietnam để cung cấp điều gì đó để làm việc.\n",
    "\n",
    "List được viết bằng dấu ngoặc vuông. Mã cho một danh sách ngắn hiển thị giá nhà bằng VNĐ trông như sau:"
   ]
  },
  {
   "cell_type": "code",
   "execution_count": 2,
   "metadata": {},
   "outputs": [
    {
     "data": {
      "text/plain": [
       "[1235618000, 2123520000, 3216523000]"
      ]
     },
     "execution_count": 2,
     "metadata": {},
     "output_type": "execute_result"
    }
   ],
   "source": [
    "price_vnd = [1235618000, 2123520000, 3216523000]\n",
    "price_vnd"
   ]
  },
  {
   "cell_type": "markdown",
   "metadata": {},
   "source": [
    "## **Làm việc với lists**\n",
    "\n",
    "Sau khi tạo list, có thể truy cập bất kỳ mục nào trong list bằng cách tham khảo số index (chỉ mục) của mục đó. Trong Python, mục đầu tiên trong danh sách luôn là 0."
   ]
  },
  {
   "cell_type": "code",
   "execution_count": 3,
   "metadata": {},
   "outputs": [
    {
     "data": {
      "text/plain": [
       "2123520000"
      ]
     },
     "execution_count": 3,
     "metadata": {},
     "output_type": "execute_result"
    }
   ],
   "source": [
    "price_vnd[1]"
   ]
  },
  {
   "cell_type": "markdown",
   "metadata": {},
   "source": [
    "#### **Thực hành**\n",
    "\n",
    "Hãy thử nó cho mình! Tạo và in một list hiển thị diện tích của các ngôi nhà, được gọi là area_m2. Bao gồm các mục 187.0, 82.0 và 235.0."
   ]
  },
  {
   "cell_type": "code",
   "execution_count": 15,
   "metadata": {},
   "outputs": [],
   "source": []
  },
  {
   "cell_type": "markdown",
   "metadata": {},
   "source": [
    "Nếu chúng ta muốn truy cập một mục ở cuối danh sách, chúng ta có thể sử dụng index phủ định. Trong index phủ định, -1 đề cập đến mục cuối cùng, -2 đến mục thứ hai từ dưới lên, v.v."
   ]
  },
  {
   "cell_type": "markdown",
   "metadata": {},
   "source": [
    "**Thực hành**\n",
    "\n",
    "Hãy thử truy cập vào mục thứ hai trong danh sách area_m2 của bạn."
   ]
  },
  {
   "cell_type": "code",
   "execution_count": null,
   "metadata": {},
   "outputs": [],
   "source": []
  },
  {
   "cell_type": "markdown",
   "metadata": {},
   "source": [
    "Hãy thử truy cập vào mục cuối cùng trong cùng một danh sách."
   ]
  },
  {
   "cell_type": "code",
   "execution_count": null,
   "metadata": {},
   "outputs": [],
   "source": []
  },
  {
   "cell_type": "markdown",
   "metadata": {},
   "source": [
    "## Thêm phần tử\n",
    "\n",
    "Bạn có thể thêm một mục vào list đã tồn tại bằng phép nối:"
   ]
  },
  {
   "cell_type": "code",
   "execution_count": 4,
   "metadata": {},
   "outputs": [
    {
     "data": {
      "text/plain": [
       "[1235618000, 2123520000, 3216523000, 55024.86]"
      ]
     },
     "execution_count": 4,
     "metadata": {},
     "output_type": "execute_result"
    }
   ],
   "source": [
    "price_vnd.append(55024.86)\n",
    "price_vnd"
   ]
  },
  {
   "cell_type": "markdown",
   "metadata": {},
   "source": [
    "#### **Thực hành**\n",
    "\n",
    "Thêm mục 195.0 vào list area_m2 của bạn."
   ]
  },
  {
   "cell_type": "code",
   "execution_count": 16,
   "metadata": {},
   "outputs": [],
   "source": []
  },
  {
   "cell_type": "markdown",
   "metadata": {},
   "source": [
    "## Tổng hợp các mục\n",
    "Chúng ta có thể tổng hợp các mục trên một list để làm cho việc phân tích list trở nên hữu ích hơn\n",
    "\n",
    "Ví du: nếu muốn biết tổng giá trị bằng VNĐ của những ngôi nhà trong list price_vnd, có thể sử dụng syntax (cú pháp) **sum**"
   ]
  },
  {
   "cell_type": "code",
   "execution_count": 5,
   "metadata": {},
   "outputs": [
    {
     "data": {
      "text/plain": [
       "6575716024.86"
      ]
     },
     "execution_count": 5,
     "metadata": {},
     "output_type": "execute_result"
    }
   ],
   "source": [
    "total_vnd = sum(price_vnd)\n",
    "total_vnd"
   ]
  },
  {
   "cell_type": "markdown",
   "metadata": {},
   "source": [
    "Chúng ta sẽ quan tâm đến giá trị tung bình bằng VNĐ của những ngôi nhà trong cùng list. Để tìm giá trị trung bình, ta dùng syntx 'len' và syntax 'sum'"
   ]
  },
  {
   "cell_type": "code",
   "execution_count": 7,
   "metadata": {},
   "outputs": [
    {
     "data": {
      "text/plain": [
       "1643929006.215"
      ]
     },
     "execution_count": 7,
     "metadata": {},
     "output_type": "execute_result"
    }
   ],
   "source": [
    "average_vnd = sum(price_vnd) / len(price_vnd)\n",
    "average_vnd"
   ]
  },
  {
   "cell_type": "markdown",
   "metadata": {},
   "source": [
    "#### **Thực hành**\n",
    "\n",
    "Hãy thử nó cho mình! Tính tổng diện tích của các ngôi nhà trong list area_m2 của bạn và tìm diện tích trung bình của tất cả các ngôi nhà trong list."
   ]
  },
  {
   "cell_type": "code",
   "execution_count": null,
   "metadata": {},
   "outputs": [],
   "source": []
  },
  {
   "cell_type": "markdown",
   "metadata": {},
   "source": [
    "## Zipping"
   ]
  },
  {
   "cell_type": "markdown",
   "metadata": {},
   "source": [
    "Cuối cùng, có thể hữu ích khi kết hợp - hoặc nén - hai list với nhau.\n",
    "\n",
    "Ví dụ: muốn tạo một list mới ghép các giá trị trong danh sách price_vnd với danh sách area_m2. Để làm điều đó, sử dụng zip."
   ]
  },
  {
   "cell_type": "code",
   "execution_count": 8,
   "metadata": {},
   "outputs": [],
   "source": [
    "area_m2 = [235.0, 130.0, 137.0]"
   ]
  },
  {
   "cell_type": "code",
   "execution_count": 9,
   "metadata": {},
   "outputs": [
    {
     "data": {
      "text/plain": [
       "[(1235618000, 235.0), (2123520000, 130.0), (3216523000, 137.0)]"
      ]
     },
     "execution_count": 9,
     "metadata": {},
     "output_type": "execute_result"
    }
   ],
   "source": [
    "new_list = zip(price_vnd,area_m2)\n",
    "zipped_list = list(new_list)\n",
    "zipped_list"
   ]
  },
  {
   "cell_type": "markdown",
   "metadata": {},
   "source": [
    "    Cách này gọi là trình tạo."
   ]
  },
  {
   "cell_type": "markdown",
   "metadata": {},
   "source": [
    "#### **Thực hành**\n",
    "\n",
    "Hãy thử nó cho mình! Tạo list có tên area_m2 bao gồm các điều khoản 235.0, 130.0 và 137.0, sau đó tạo một list khác có tên price_cop bao gồm các điều khoản 400000000.0, 850000000.0 và 475000000.0. Sau đó nén chúng lại với nhau để tạo một list mới có tên area_price và in kết quả."
   ]
  },
  {
   "cell_type": "code",
   "execution_count": null,
   "metadata": {},
   "outputs": [],
   "source": []
  },
  {
   "cell_type": "markdown",
   "metadata": {},
   "source": [
    "## **Python cho các vòng lặp**\n",
    "\n",
    "Vòng lặp for được sử dụng để thực hiện một tập hợp các câu lệnh cho mỗi mục trong list.\n",
    "\n",
    "### **Làm việc với for Loops**\n",
    "\n",
    "Có thể có bao nhiêu câu trong list, nhưng để quản lý được mọi thứ, hãy sử dụng list giá trị bđs ở VN"
   ]
  },
  {
   "cell_type": "code",
   "execution_count": 11,
   "metadata": {},
   "outputs": [
    {
     "data": {
      "text/plain": [
       "[1235618000, 2123520000, 3216523000]"
      ]
     },
     "execution_count": 11,
     "metadata": {},
     "output_type": "execute_result"
    }
   ],
   "source": [
    "price_vnd = [1235618000, 2123520000, 3216523000]\n",
    "price_vnd"
   ]
  },
  {
   "cell_type": "markdown",
   "metadata": {},
   "source": [
    "Chúng ta muốn xem từng giá trị trong list, vì vậy sử dụng vòng lặp for"
   ]
  },
  {
   "cell_type": "code",
   "execution_count": 12,
   "metadata": {},
   "outputs": [
    {
     "name": "stdout",
     "output_type": "stream",
     "text": [
      "1235618000\n",
      "2123520000\n",
      "3216523000\n"
     ]
    }
   ],
   "source": [
    "for x in price_vnd:\n",
    "    print(x)"
   ]
  },
  {
   "cell_type": "markdown",
   "metadata": {},
   "source": [
    "#### **Thực hành**\n",
    "\n",
    "Thử với area_m2"
   ]
  },
  {
   "cell_type": "code",
   "execution_count": 13,
   "metadata": {},
   "outputs": [
    {
     "name": "stdout",
     "output_type": "stream",
     "text": [
      "235.0\n",
      "130.0\n",
      "137.0\n"
     ]
    }
   ],
   "source": [
    "for i in area_m2:\n",
    "    print(i)"
   ]
  },
  {
   "cell_type": "markdown",
   "metadata": {},
   "source": [
    "## **Dictionary trong Python**\n",
    "\n",
    "Trong Python, a dictionary là một tập hợp dữ liệu xảy ra theo thứ tự, có thể thay đổi và không cho phép trùng lặp.\n",
    "\n",
    "Dữ liệu trong dictionary luôn được trình bày dưới dạng key-value và các cặp key-value đó không thể bị trùng lặp trong tập dữ liệu."
   ]
  },
  {
   "cell_type": "markdown",
   "metadata": {},
   "source": [
    "### **Tạo Dictionaries**\n",
    "\n",
    "Dictionary có thể to hoặc nhỏ tùy thích. Hãy tạo một dictionary nhỏ dựa trên dữ liệu từ thị trường bất động sản Viet Nam để cung cấp cho chúng tôi một số thứ để làm việc.\n",
    "\n",
    "Dictionary được viết bằng dấu ngoặc nhọn {}, với các cặp key-value trị bên trong. Mã cho một dictionary nhỏ trông như thế này:"
   ]
  },
  {
   "cell_type": "code",
   "execution_count": 15,
   "metadata": {},
   "outputs": [
    {
     "data": {
      "text/plain": [
       "{'property_type': 'house', 'department': 'luxury', 'area': 235.0}"
      ]
     },
     "execution_count": 15,
     "metadata": {},
     "output_type": "execute_result"
    }
   ],
   "source": [
    "vietnamdict = {\n",
    "    \"property_type\": \"house\",\n",
    "    \"department\": \"luxury\",\n",
    "    \"area\": 235.0,\n",
    "}\n",
    "vietnamdict"
   ]
  },
  {
   "cell_type": "markdown",
   "metadata": {},
   "source": [
    "#### **Thực hành**\n",
    "\n",
    "Hãy thử nó cho mình! Tạo và in dictionary có tên hanoi với các cặp key-value trị \"price_vnd\": 121.555.09, \"area_m2\": 82.0 và \"property_type\": \"house\""
   ]
  },
  {
   "cell_type": "code",
   "execution_count": 16,
   "metadata": {},
   "outputs": [
    {
     "data": {
      "text/plain": [
       "{'price_vnd': '121.555.09', 'area_m2': 82.0, 'property_type': 'house'}"
      ]
     },
     "execution_count": 16,
     "metadata": {},
     "output_type": "execute_result"
    }
   ],
   "source": [
    "hanoi = {\n",
    "    \"price_vnd\":\"121.555.09\",\n",
    "    \"area_m2\": 82.0,\n",
    "    \"property_type\": \"house\",\n",
    "}\n",
    "hanoi"
   ]
  },
  {
   "cell_type": "markdown",
   "metadata": {},
   "source": [
    "### **Làm việc với Dictionaries**\n",
    "\n",
    "Sau khi tạo dictionary, có thể truy cập bất kỳ mục nào bằng cách sử dụng tên khóa của nó bên trong dấu ngoặc vuông.\n",
    "\n",
    "Quay trở lại dictionary ví dụ của chúng ta, hãy truy cập giá trị cho \"department\"."
   ]
  },
  {
   "cell_type": "code",
   "execution_count": 17,
   "metadata": {},
   "outputs": [
    {
     "data": {
      "text/plain": [
       "'luxury'"
      ]
     },
     "execution_count": 17,
     "metadata": {},
     "output_type": "execute_result"
    }
   ],
   "source": [
    "x = vietnamdict[\"department\"]\n",
    "x"
   ]
  },
  {
   "cell_type": "markdown",
   "metadata": {},
   "source": [
    "#### **Thực hành**\n",
    "\n",
    "Truy cập giá trị price_vnd trong từ điểm hanoi đã tạo"
   ]
  },
  {
   "cell_type": "markdown",
   "metadata": {},
   "source": []
  },
  {
   "cell_type": "markdown",
   "metadata": {},
   "source": [
    "Bạn cũng có thể dùng get để truy xuất một giá trị"
   ]
  },
  {
   "cell_type": "code",
   "execution_count": 18,
   "metadata": {},
   "outputs": [
    {
     "data": {
      "text/plain": [
       "'luxury'"
      ]
     },
     "execution_count": 18,
     "metadata": {},
     "output_type": "execute_result"
    }
   ],
   "source": [
    "x = vietnamdict.get(\"department\")\n",
    "x"
   ]
  },
  {
   "cell_type": "markdown",
   "metadata": {},
   "source": [
    "#### **Thực hành**\n",
    "\n",
    "Thử truy cập giá trị cho area_m2 bằng get và in kết quả"
   ]
  },
  {
   "cell_type": "code",
   "execution_count": null,
   "metadata": {},
   "outputs": [],
   "source": []
  },
  {
   "cell_type": "markdown",
   "metadata": {},
   "source": [
    "## **Dictionary Key**\n",
    "\n",
    "Muốn biết các khóa có trong dictionary hoặc muốn lặp lại dictionary. Trong trường hợp như vậy, cần viết mã để truy cập tất cả các key-value trong dictionary bằng cách sử dụng phương thức **keys**:"
   ]
  },
  {
   "cell_type": "code",
   "execution_count": 19,
   "metadata": {},
   "outputs": [
    {
     "data": {
      "text/plain": [
       "dict_keys(['property_type', 'department', 'area'])"
      ]
     },
     "execution_count": 19,
     "metadata": {},
     "output_type": "execute_result"
    }
   ],
   "source": [
    "vietnamdict.keys()"
   ]
  },
  {
   "cell_type": "markdown",
   "metadata": {},
   "source": [
    "Chuyển đổi đầu ra thành list:"
   ]
  },
  {
   "cell_type": "code",
   "execution_count": 20,
   "metadata": {},
   "outputs": [
    {
     "data": {
      "text/plain": [
       "['property_type', 'department', 'area']"
      ]
     },
     "execution_count": 20,
     "metadata": {},
     "output_type": "execute_result"
    }
   ],
   "source": [
    "list(vietnamdict.keys())"
   ]
  },
  {
   "cell_type": "markdown",
   "metadata": {},
   "source": [
    "Bạn cũng có thể lặp qua cột dict.keys() mà không cần chuyển nó thành list:"
   ]
  },
  {
   "cell_type": "code",
   "execution_count": 21,
   "metadata": {},
   "outputs": [
    {
     "name": "stdout",
     "output_type": "stream",
     "text": [
      "property_type\n",
      "department\n",
      "area\n"
     ]
    }
   ],
   "source": [
    "for k in vietnamdict.keys():\n",
    "    print(k)"
   ]
  },
  {
   "cell_type": "markdown",
   "metadata": {},
   "source": [
    "#### **Thực hành**\n",
    "\n",
    "in giá trị của mỗi key-value trong từ điển colomdict"
   ]
  },
  {
   "cell_type": "code",
   "execution_count": 38,
   "metadata": {},
   "outputs": [
    {
     "name": "stdout",
     "output_type": "stream",
     "text": [
      "('property_type', 'house')\n",
      "('department', 'quindio')\n",
      "('area', 235.0)\n"
     ]
    }
   ],
   "source": [
    "for n in colomdict.items():\n",
    "    print(n)"
   ]
  },
  {
   "cell_type": "markdown",
   "metadata": {},
   "source": [
    "## **JSON**\n",
    "\n",
    "JSON là viết tắt của Java Script Object Notation, và nó là một định dạng văn bản để lưu trữ và vận chuyển dữ liệu.\n",
    "\n",
    "**Làm việc với JSON**\n",
    "\n",
    "JSON hoạt động bằng cách tạo các cặp key-value, trong đó key là dữ liệu có thể được biểu diễn bằng các chứa cái (được gọi là chuỗi). Values JSON có thể là strings, numbers, objects, arrays, boolean data, hoặc null. JSON thường xuất hiện dưới dạnh list các dictionary, như sau:\n",
    "\n",
    "Dưới đây là ví dụ từ tập dữ liệu colombia-real-Estate-1 với hai cặp key-value đều bao gồm các giá trị string:"
   ]
  },
  {
   "cell_type": "code",
   "execution_count": 22,
   "metadata": {},
   "outputs": [
    {
     "data": {
      "text/plain": [
       "[{'property_type': 'house', 'department': 'hanoi'},\n",
       " {'property_type': 'house', 'department': 'hanoi'},\n",
       " {'property_type': 'house', 'department': 'hanoi'}]"
      ]
     },
     "execution_count": 22,
     "metadata": {},
     "output_type": "execute_result"
    }
   ],
   "source": [
    "[\n",
    "    {\"property_type\": \"house\", \"department\": \"hanoi\"},\n",
    "    {\"property_type\": \"house\", \"department\": \"hanoi\"},\n",
    "    {\"property_type\": \"house\", \"department\": \"hanoi\"},\n",
    "]"
   ]
  },
  {
   "cell_type": "markdown",
   "metadata": {},
   "source": [
    "Dưới đây là ví dụ từ tập dữ liệu hanoi-real-Estate-1 với hai cặp key-value đều bao gồm các giá trị string:"
   ]
  },
  {
   "cell_type": "code",
   "execution_count": 23,
   "metadata": {},
   "outputs": [
    {
     "data": {
      "text/plain": [
       "{'property_type': 'house', 'department': 'hanoi'}"
      ]
     },
     "execution_count": 23,
     "metadata": {},
     "output_type": "execute_result"
    }
   ],
   "source": [
    "{\"property_type\": \"house\", \"department\": \"hanoi\"}"
   ]
  },
  {
   "cell_type": "markdown",
   "metadata": {},
   "source": [
    "Các cặp JSON với các số:"
   ]
  },
  {
   "cell_type": "code",
   "execution_count": 24,
   "metadata": {},
   "outputs": [
    {
     "data": {
      "text/plain": [
       "{'area_m2': 187.0, 'price_vnd': 330899.98}"
      ]
     },
     "execution_count": 24,
     "metadata": {},
     "output_type": "execute_result"
    }
   ],
   "source": [
    "{\"area_m2\": 187.0, \"price_vnd\": 330899.98}"
   ]
  },
  {
   "cell_type": "markdown",
   "metadata": {},
   "source": [
    "Khi kết hợp nhiều loại giá trị, nó trông như thế này:"
   ]
  },
  {
   "cell_type": "code",
   "execution_count": 25,
   "metadata": {},
   "outputs": [
    {
     "data": {
      "text/plain": [
       "{'property_type': 'house', 'price_vnd': 330899.98}"
      ]
     },
     "execution_count": 25,
     "metadata": {},
     "output_type": "execute_result"
    }
   ],
   "source": [
    "{\"property_type\": \"house\", \"price_vnd\": 330899.98}"
   ]
  },
  {
   "cell_type": "markdown",
   "metadata": {},
   "source": [
    "### **References & Further Reading**9\n",
    "- [A guide to basic math operations in Python](https://codingexplained.com/coding/python/basic-math-operators-in-python)\n",
    "- [Python documentation on built-in data types](https://docs.python.org/3/library/stdtypes.html)\n",
    "- [Summary of Python data types](https://www.w3schools.com/python/python_datatypes.asp)\n",
    "- [Tutorial on type conversion in Python](https://www.datacamp.com/tutorial/python-data-type-conversion)\n",
    "- [A description of how dictionaries work in Python](https://www.w3schools.com/python/python_dictionaries.asp)\n",
    "- [An introduction to JSON](https://www.w3schools.com/js/js_json_syntax.asp)\n",
    "- [An introduction to lists in Python](https://www.w3schools.com/python/python_lists.asp)\n",
    "- [How to zip lists](https://www.adamsmith.haus/python/answers/how-to-zip-two-lists-in-python)\n",
    "- [Calculating mean, median, and mode in Python](https://stackabuse.com/calculating-mean-median-and-mode-in-python/)\n",
    "- [A brief tutorial of For Loops](https://www.w3schools.com/python/python_for_loops.asp)"
   ]
  }
 ],
 "metadata": {
  "kernelspec": {
   "display_name": "Python 3.10.6 64-bit",
   "language": "python",
   "name": "python3"
  },
  "language_info": {
   "codemirror_mode": {
    "name": "ipython",
    "version": 3
   },
   "file_extension": ".py",
   "mimetype": "text/x-python",
   "name": "python",
   "nbconvert_exporter": "python",
   "pygments_lexer": "ipython3",
   "version": "3.10.6"
  },
  "orig_nbformat": 4,
  "vscode": {
   "interpreter": {
    "hash": "9ad7f758c7f2ebdda2cc4f553f1363ed8fbfe288e0aece9aaf2ec73dff90b611"
   }
  }
 },
 "nbformat": 4,
 "nbformat_minor": 2
}
