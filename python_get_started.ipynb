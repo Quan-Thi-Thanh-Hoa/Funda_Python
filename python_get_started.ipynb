{
 "cells": [
  {
   "cell_type": "markdown",
   "metadata": {},
   "source": [
    "# **Python: Getting Started**"
   ]
  },
  {
   "cell_type": "markdown",
   "metadata": {},
   "source": [
    "## Tính toán đơn giản"
   ]
  },
  {
   "cell_type": "markdown",
   "metadata": {},
   "source": [
    "Ngoài tất cả những thứ phức tạp hơn bạn có thể làm bằng Python, nó cũng hữu ích để hoàn thành các phép toán đơn giản"
   ]
  },
  {
   "cell_type": "markdown",
   "metadata": {},
   "source": [
    "**Cộng và trừ**"
   ]
  },
  {
   "cell_type": "markdown",
   "metadata": {},
   "source": [
    "Cộng một số lại với nhau sẽ như thế này"
   ]
  },
  {
   "cell_type": "code",
   "execution_count": 1,
   "metadata": {},
   "outputs": [
    {
     "data": {
      "text/plain": [
       "2"
      ]
     },
     "execution_count": 1,
     "metadata": {},
     "output_type": "execute_result"
    }
   ],
   "source": [
    "1 + 1"
   ]
  },
  {
   "cell_type": "markdown",
   "metadata": {},
   "source": [
    "Chú ý rằng bạn không cần phải bao gồm **=** để chạy được mã code"
   ]
  },
  {
   "cell_type": "markdown",
   "metadata": {},
   "source": [
    "Trừ các số với nhau sẽ như thế này"
   ]
  },
  {
   "cell_type": "code",
   "execution_count": 2,
   "metadata": {},
   "outputs": [
    {
     "data": {
      "text/plain": [
       "1"
      ]
     },
     "execution_count": 2,
     "metadata": {},
     "output_type": "execute_result"
    }
   ],
   "source": [
    "2 - 1"
   ]
  },
  {
   "cell_type": "markdown",
   "metadata": {},
   "source": [
    "**Phép chia**"
   ]
  },
  {
   "cell_type": "markdown",
   "metadata": {},
   "source": [
    "Chia một số sẽ như thế này"
   ]
  },
  {
   "cell_type": "code",
   "execution_count": 3,
   "metadata": {},
   "outputs": [
    {
     "data": {
      "text/plain": [
       "2.0"
      ]
     },
     "execution_count": 3,
     "metadata": {},
     "output_type": "execute_result"
    }
   ],
   "source": [
    "4 / 2"
   ]
  },
  {
   "cell_type": "markdown",
   "metadata": {},
   "source": [
    "Hãy nhớ rằng Python sẽ trả về lỗi nếu bạn chia cho 0!"
   ]
  },
  {
   "cell_type": "markdown",
   "metadata": {},
   "source": [
    "**Tìm số dư**"
   ]
  },
  {
   "cell_type": "markdown",
   "metadata": {},
   "source": [
    "Thực hiện chia lấy phần dư sẽ như thế này"
   ]
  },
  {
   "cell_type": "code",
   "execution_count": 4,
   "metadata": {},
   "outputs": [
    {
     "data": {
      "text/plain": [
       "1"
      ]
     },
     "execution_count": 4,
     "metadata": {},
     "output_type": "execute_result"
    }
   ],
   "source": [
    "5 % 2"
   ]
  },
  {
   "cell_type": "markdown",
   "metadata": {},
   "source": [
    "**Phép nhân**"
   ]
  },
  {
   "cell_type": "markdown",
   "metadata": {},
   "source": [
    "Nhân một số sẽ như thế này"
   ]
  },
  {
   "cell_type": "code",
   "execution_count": 5,
   "metadata": {},
   "outputs": [
    {
     "data": {
      "text/plain": [
       "8"
      ]
     },
     "execution_count": 5,
     "metadata": {},
     "output_type": "execute_result"
    }
   ],
   "source": [
    "4 * 2"
   ]
  },
  {
   "cell_type": "markdown",
   "metadata": {},
   "source": [
    "Thêm **số mũ** cho một số sẽ như thế này"
   ]
  },
  {
   "cell_type": "code",
   "execution_count": 6,
   "metadata": {},
   "outputs": [
    {
     "data": {
      "text/plain": [
       "16"
      ]
     },
     "execution_count": 6,
     "metadata": {},
     "output_type": "execute_result"
    }
   ],
   "source": [
    "4 ** 2"
   ]
  },
  {
   "cell_type": "markdown",
   "metadata": {},
   "source": [
    "## Thứ tự hoạt động"
   ]
  },
  {
   "cell_type": "markdown",
   "metadata": {},
   "source": [
    "Python cũng có thứ tự hoạt động cụ thể:\n",
    "\n",
    "    Dấu ngoặc đơn, Số mũ, Phép nhân, Phép cộng và phép trừ"
   ]
  },
  {
   "cell_type": "code",
   "execution_count": 7,
   "metadata": {},
   "outputs": [
    {
     "data": {
      "text/plain": [
       "14"
      ]
     },
     "execution_count": 7,
     "metadata": {},
     "output_type": "execute_result"
    }
   ],
   "source": [
    "(6 + 4) + 4"
   ]
  },
  {
   "cell_type": "markdown",
   "metadata": {},
   "source": [
    "Mọi thứ trở nên phức tạp hơn khi chúng ta thêm nhiều số hạng hơn vào phương trình, nhưng nguyên tắc vẫn như cũ"
   ]
  },
  {
   "cell_type": "code",
   "execution_count": 8,
   "metadata": {},
   "outputs": [
    {
     "data": {
      "text/plain": [
       "40.0"
      ]
     },
     "execution_count": 8,
     "metadata": {},
     "output_type": "execute_result"
    }
   ],
   "source": [
    "(((5**3 + 7) * 4) / 16 + 9 - 2)"
   ]
  },
  {
   "cell_type": "markdown",
   "metadata": {},
   "source": [
    "## Kiểu dữ liệu"
   ]
  },
  {
   "cell_type": "markdown",
   "metadata": {},
   "source": [
    "**Boolean** (bool):\n",
    "\n",
    "    Bất kỳ dữ liệu nào đều được biểu thị là Đúng hoặc Sai.\n",
    "    Được sử dụng khi so sánh hai giá trị.\n",
    "    Ví dụ: nhập vào 10 > 9, Python sẽ trả về **True**\n",
    "\n",
    "**Chuỗi** (str):\n",
    "\n",
    "    Dữ liệu liên quan đến văn bản - chữ cái, số hoặc kỹ tự đặc biệt.\n",
    "    Các chuỗi được đặt trong dấu ngoặc kép đơn hoặc kép: \"string-1\" hoặc 'string-2'.\n",
    "\n",
    "**Numeric** (int, float, complex):\n",
    "\n",
    "    Dữ liệu có thể được thể hiện bằng số.\n",
    "    Một số nguyên, hoặc int là số nguyên dương hoặc âm, không có số thập phân, có độ dài không giới hạn.\n",
    "    Số thập phân, hoặc số thực là một số dương hoặc âm, chứa một hoặc nhiều số thập phân: 12.01.\n",
    "    Số phức là các số ảo, được ký hiệu hằng j: (3 + 6j)"
   ]
  },
  {
   "cell_type": "markdown",
   "metadata": {},
   "source": [
    "**Trình tự** (list, tuple, set):\n",
    "\n",
    "    Dữ liệu là một tập hợp các mục rời rạc.\n",
    "    - A list là tập hợp được sắp xếp và có thể thay đổi. Nó được chỉ định bằng cách sử dụng dấu ngoặc vuông [] và các mục có thể thuộc các kiểu dữ liệu khác nhau: [\"red\",1,1.03,1]\n",
    "    - Bộ tuple là một bộ sưu tập được sắp xếp theo thứ tự và không thể thay đổi. Nó được chỉ định bằng cách sử dụng dấu ngoặc đơn (): (\"read\",1,1.03,1)\n",
    "    - Set là một tập hợp không có thứ tự, không thể thay đổi và không cho phép các mục trùng lặp. Nó chỉ định bằng cách sử dụng dấu ngoặc nhọn {}: {\"red\",1,1.03}\n",
    "\n",
    "**Mapping** (dict):\n",
    "\n",
    "    Dictionaries lưu trữ dữ liệu theo cặp key-value. Chúng được chỉ định bằng cách sử dụng dấu ngoặc nhọn {}, giống như một tập hợp, nhưng lưu ý rằng các key-value được liên kết với nhau bằng dấu hai chấm:.\n",
    "    Mỗi cặp được phân tách với cặp tiếp theo bằng dấu phẩy,.\n",
    "    dict1 = {\n",
    "        \"bo_phan\": \"quindio\",\n",
    "        \"loai_tai_san\": \"nha\",\n",
    "        \"gia_tien\": 330899.98\n",
    "    }\n",
    "\n",
    "**Binary (Nhị phân)** (byte, bytearray, memoryview):\n",
    "\n",
    "    Được sử dụng để thao tác và hiển thị dữ liệu nhị phân. Đó là dữ liệu có thể được hiển thị bằng các số nguyên được biểu diễn với cơ số 2.\n",
    "    Không giống các kiểu dữ liệu khác được mô tả ở trên, kiểu nhị phân không phải con người có thể đọc được."
   ]
  },
  {
   "cell_type": "markdown",
   "metadata": {},
   "source": [
    "## **List**"
   ]
  },
  {
   "cell_type": "markdown",
   "metadata": {},
   "source": [
    "Trong Python, danh sách là một tập hợp dữ liệu lưu trữ nhiều mục trong một biến duy nhất. Các mục này phải được đặt hàng, có thể thay đổi và có thể được sao chép. Một danh sách có thể lưu trữ dữ liệu của nhiều loại; không phải tất cả các mục trong danh sách cần phải cùng một loại.\n",
    "\n",
    "## **Tạo danh sách**\n",
    "\n",
    "Danh sách có thể dài hoặc ngắn tùy thích. Hãy tạo một danh sách ngắn dựa trên dữ liệu từ thị trường bất động sản Colombia để cung cấp điều gì đó để làm việc.\n",
    "\n",
    "Danh sách được viết bằng dấu ngoặc vuông. Mã cho một danh sách ngắn hiển thị giá nhà bằng đô la Mỹ trông như sau:"
   ]
  },
  {
   "cell_type": "code",
   "execution_count": 9,
   "metadata": {},
   "outputs": [
    {
     "data": {
      "text/plain": [
       "[97919.38, 300511.2, 293758.14]"
      ]
     },
     "execution_count": 9,
     "metadata": {},
     "output_type": "execute_result"
    }
   ],
   "source": [
    "price_usd = [97919.38, 300511.20, 293758.14]\n",
    "price_usd"
   ]
  },
  {
   "cell_type": "markdown",
   "metadata": {},
   "source": [
    "## **Làm việc với lists**\n",
    "\n",
    "Sau khi tạo danh sách, có thể truy cập bất kỳ mục nào trong danh sách bằng cách tham khảo số chỉ mục của mục đó. Trong Python, mục đầu tiên trong danh sách luôn là 0."
   ]
  },
  {
   "cell_type": "code",
   "execution_count": 10,
   "metadata": {},
   "outputs": [
    {
     "data": {
      "text/plain": [
       "300511.2"
      ]
     },
     "execution_count": 10,
     "metadata": {},
     "output_type": "execute_result"
    }
   ],
   "source": [
    "price_usd[1]"
   ]
  },
  {
   "cell_type": "markdown",
   "metadata": {},
   "source": [
    "#### **Thực hành**\n",
    "\n",
    "Hãy thử nó cho mình! Tạo và in một danh sách hiển thị diện tích của các ngôi nhà, được gọi là area_m2. Bao gồm các mục 187.0, 82.0 và 235.0."
   ]
  },
  {
   "cell_type": "code",
   "execution_count": 15,
   "metadata": {},
   "outputs": [],
   "source": [
    "area_m2 = [187.0,82.0,235.0]"
   ]
  },
  {
   "cell_type": "markdown",
   "metadata": {},
   "source": [
    "Nếu chúng ta muốn truy cập một mục ở cuối danh sách, chúng ta có thể sử dụng lập chỉ mục phủ định. Trong lập chỉ mục phủ định, -1 đề cập đến mục cuối cùng, -2 đến mục thứ hai đến cuối cùng, v.v."
   ]
  },
  {
   "cell_type": "markdown",
   "metadata": {},
   "source": [
    "**Thực hành**\n",
    "\n",
    "Hãy thử truy cập vào mục thứ hai trong danh sách area_m2 của bạn."
   ]
  },
  {
   "cell_type": "code",
   "execution_count": null,
   "metadata": {},
   "outputs": [],
   "source": []
  },
  {
   "cell_type": "markdown",
   "metadata": {},
   "source": [
    "Hãy thử truy cập vào mục cuối cùng trong cùng một danh sách."
   ]
  },
  {
   "cell_type": "code",
   "execution_count": null,
   "metadata": {},
   "outputs": [],
   "source": []
  },
  {
   "cell_type": "markdown",
   "metadata": {},
   "source": [
    "## Thêm phần tử\n",
    "\n",
    "Bạn có thể thêm một mục vào danh sách đã tồn tại bằng phép nối:"
   ]
  },
  {
   "cell_type": "code",
   "execution_count": 12,
   "metadata": {},
   "outputs": [
    {
     "data": {
      "text/plain": [
       "[97919.38, 300511.2, 293758.14, 55024.86, 55024.86]"
      ]
     },
     "execution_count": 12,
     "metadata": {},
     "output_type": "execute_result"
    }
   ],
   "source": [
    "price_usd.append(55024.86)\n",
    "price_usd"
   ]
  },
  {
   "cell_type": "markdown",
   "metadata": {},
   "source": [
    "#### **Thực hành**\n",
    "\n",
    "Thêm mục 195.0 vào danh sách area_m2 của bạn."
   ]
  },
  {
   "cell_type": "code",
   "execution_count": 16,
   "metadata": {},
   "outputs": [],
   "source": [
    "area_m2.append(195.0)"
   ]
  },
  {
   "cell_type": "markdown",
   "metadata": {},
   "source": [
    "## Tổng hợp các mục\n",
    "Chúng ta có thể tổng hợp các mục trên một danh sách để làm cho việc phân tích danh sách trở nên hữu ích hơn\n",
    "\n",
    "Ví du: nếu muốn biết tổng giá trị bằng đô la Mỹ của những ngôi nhà trong danh sách price_usd, có thể sử dụng phương pháp **sum**"
   ]
  },
  {
   "cell_type": "code",
   "execution_count": 13,
   "metadata": {},
   "outputs": [
    {
     "data": {
      "text/plain": [
       "802238.44"
      ]
     },
     "execution_count": 13,
     "metadata": {},
     "output_type": "execute_result"
    }
   ],
   "source": [
    "total_usd = sum(price_usd)\n",
    "total_usd"
   ]
  },
  {
   "cell_type": "markdown",
   "metadata": {},
   "source": [
    "Chúng ta sẽ quan tâm đến giá trị tung bình bằng đo la Mỹ của những ngôi nhà trong cùng danh sách. Để tìm giá trị trung bình, ta dùng 'len' vào phương thức 'sum'"
   ]
  },
  {
   "cell_type": "code",
   "execution_count": 14,
   "metadata": {},
   "outputs": [
    {
     "data": {
      "text/plain": [
       "160447.688"
      ]
     },
     "execution_count": 14,
     "metadata": {},
     "output_type": "execute_result"
    }
   ],
   "source": [
    "average_usd = sum(price_usd) / len(price_usd)\n",
    "average_usd"
   ]
  },
  {
   "cell_type": "markdown",
   "metadata": {},
   "source": [
    "#### **Thực hành**\n",
    "\n",
    "Hãy thử nó cho mình! Tính tổng diện tích của các ngôi nhà trong danh sách area_m2 của bạn và tìm diện tích trung bình của tất cả các ngôi nhà trong danh sách."
   ]
  },
  {
   "cell_type": "code",
   "execution_count": 17,
   "metadata": {},
   "outputs": [
    {
     "data": {
      "text/plain": [
       "174.75"
      ]
     },
     "execution_count": 17,
     "metadata": {},
     "output_type": "execute_result"
    }
   ],
   "source": [
    "average_area_m2 = sum(area_m2) / len(area_m2)\n",
    "average_area_m2"
   ]
  },
  {
   "cell_type": "markdown",
   "metadata": {},
   "source": [
    "## Zipping"
   ]
  },
  {
   "cell_type": "markdown",
   "metadata": {},
   "source": [
    "Cuối cùng, có thể hữu ích khi kết hợp - hoặc nén - hai danh sách với nhau.\n",
    "\n",
    "Ví dụ: muốn tạo một danh sách mới ghép các giá trị trong danh sách price_usd với danh sách area_m2. Để làm điều đó, sử dụng zip."
   ]
  },
  {
   "cell_type": "code",
   "execution_count": 18,
   "metadata": {},
   "outputs": [
    {
     "data": {
      "text/plain": [
       "[(97919.38, 187.0), (300511.2, 82.0), (293758.14, 235.0), (55024.86, 195.0)]"
      ]
     },
     "execution_count": 18,
     "metadata": {},
     "output_type": "execute_result"
    }
   ],
   "source": [
    "new_list = zip(price_usd,area_m2)\n",
    "zipped_list = list(new_list)\n",
    "zipped_list"
   ]
  },
  {
   "cell_type": "markdown",
   "metadata": {},
   "source": [
    "    Cách này gọi là trình tạo."
   ]
  },
  {
   "cell_type": "markdown",
   "metadata": {},
   "source": [
    "#### **Thực hành**\n",
    "\n",
    "Hãy thử nó cho mình! Tạo danh sách có tên area_m2 bao gồm các điều khoản 235.0, 130.0 và 137.0, sau đó tạo một danh sách khác có tên price_cop bao gồm các điều khoản 400000000.0, 850000000.0 và 475000000.0. Sau đó nén chúng lại với nhau để tạo một danh sách mới có tên area_price và in kết quả."
   ]
  },
  {
   "cell_type": "code",
   "execution_count": 19,
   "metadata": {},
   "outputs": [
    {
     "data": {
      "text/plain": [
       "[(235.0, 40000000.0), (130.0, 850000000.0), (137.0, 475000000.0)]"
      ]
     },
     "execution_count": 19,
     "metadata": {},
     "output_type": "execute_result"
    }
   ],
   "source": [
    "area_m2 = [235.0, 130.0, 137.0]\n",
    "price_cop = [40000000.0,850000000.0,475000000.0]\n",
    "create_zip = zip(area_m2, price_cop)\n",
    "area_price = list(create_zip)\n",
    "area_price"
   ]
  },
  {
   "cell_type": "markdown",
   "metadata": {},
   "source": [
    "## **Python cho các vòng lặp**\n",
    "\n",
    "Vòng lặp for được sử dụng để thực hiện một tập hợp các câu lệnh cho mỗi mục trong danh sách.\n",
    "\n",
    "### **Làm việc với for Loops**\n",
    "\n",
    "Có thể có bao nhiêu câu trong danh sách, nhưng để quản lý được mọi thứ, hãy sử dụng danh sách giá trị bđs ở Colombia"
   ]
  },
  {
   "cell_type": "code",
   "execution_count": 20,
   "metadata": {},
   "outputs": [
    {
     "data": {
      "text/plain": [
       "[97919.38, 300511.2, 293758.14, 540244.86]"
      ]
     },
     "execution_count": 20,
     "metadata": {},
     "output_type": "execute_result"
    }
   ],
   "source": [
    "price_usd = [97919.38, 300511.20, 293758.14,540244.86]\n",
    "price_usd"
   ]
  },
  {
   "cell_type": "markdown",
   "metadata": {},
   "source": [
    "Chúng ta muốn xem từng giá trị trong danh sách, vì vậy chèn vòng lặp for"
   ]
  },
  {
   "cell_type": "code",
   "execution_count": 21,
   "metadata": {},
   "outputs": [
    {
     "name": "stdout",
     "output_type": "stream",
     "text": [
      "97919.38\n",
      "300511.2\n",
      "293758.14\n",
      "540244.86\n"
     ]
    }
   ],
   "source": [
    "price_usd = [97919.38, 300511.20, 293758.14,540244.86]\n",
    "for x in price_usd:\n",
    "    print(x)"
   ]
  },
  {
   "cell_type": "markdown",
   "metadata": {},
   "source": [
    "#### **Thực hành**\n",
    "\n",
    "Thử với area_m2"
   ]
  },
  {
   "cell_type": "code",
   "execution_count": 22,
   "metadata": {},
   "outputs": [
    {
     "name": "stdout",
     "output_type": "stream",
     "text": [
      "235.0\n",
      "130.0\n",
      "137.0\n"
     ]
    }
   ],
   "source": [
    "for i in area_m2:\n",
    "    print(i)"
   ]
  },
  {
   "cell_type": "markdown",
   "metadata": {},
   "source": [
    "## **Từ điểm Python**\n",
    "\n",
    "Trong Python, a dictionary là một tập hợp dữ liệu xảy ra theo thứ tự, có thể thay đổi và không cho phép trùng lặp.\n",
    "\n",
    "Dữ liệu tỏng từ điển luôn được trình bày dưới dạng key-value và các cặp key-value đó không thể bị trùng lặp trong tập dữ liệu."
   ]
  },
  {
   "cell_type": "markdown",
   "metadata": {},
   "source": [
    "### **Tạo Dictionaries**\n",
    "\n",
    "Từ điểm có thể to hoặc nhỏ tùy thích.\n",
    "\n",
    "Từ điển có thể to hoặc nhỏ tùy thích. Hãy tạo một từ điển nhỏ dựa trên dữ liệu từ thị trường bất động sản Colombia để cung cấp cho chúng tôi một số thứ để làm việc.\n",
    "\n",
    "Dictionary được viết bằng dấu ngoặc nhọn, với các cặp key-value trị bên trong. Mã cho một từ điển nhỏ trông như thế này:"
   ]
  },
  {
   "cell_type": "code",
   "execution_count": 24,
   "metadata": {},
   "outputs": [
    {
     "data": {
      "text/plain": [
       "{'property_type': 'house', 'department': 'quindio', 'area': 235.0}"
      ]
     },
     "execution_count": 24,
     "metadata": {},
     "output_type": "execute_result"
    }
   ],
   "source": [
    "colomdict = {\n",
    "    \"property_type\": \"house\",\n",
    "    \"department\": \"quindio\",\n",
    "    \"area\": 235.0,\n",
    "}\n",
    "colomdict"
   ]
  },
  {
   "cell_type": "markdown",
   "metadata": {},
   "source": [
    "#### **Thực hành**\n",
    "\n",
    "Hãy thử nó cho mình! Tạo và in từ điển có tên bogota với các cặp key-value trị \"price_usd\": 121.555.09, \"area_m2\": 82.0 và \"property_type\": \"house\""
   ]
  },
  {
   "cell_type": "code",
   "execution_count": 26,
   "metadata": {},
   "outputs": [
    {
     "data": {
      "text/plain": [
       "{'price_usd': '121.555.09', 'area_m2': 82.0, 'property_type': 'house'}"
      ]
     },
     "execution_count": 26,
     "metadata": {},
     "output_type": "execute_result"
    }
   ],
   "source": [
    "bogota = {\n",
    "    \"price_usd\":\"121.555.09\",\n",
    "    \"area_m2\": 82.0,\n",
    "    \"property_type\": \"house\",\n",
    "}\n",
    "bogota"
   ]
  },
  {
   "cell_type": "markdown",
   "metadata": {},
   "source": []
  },
  {
   "cell_type": "markdown",
   "metadata": {},
   "source": [
    "### **Làm việc với Dictionaries**\n",
    "\n",
    "Sau khi tạo từ điển, có thể truy cập bất kỳ mục nào bằng cách sử dụng tên khóa của nó bên trong dấu ngoặc vuông.\n",
    "\n",
    "Quay trở lại từ điển ví dụ của chúng ta, hãy truy cập giá trị cho \"department\"."
   ]
  },
  {
   "cell_type": "code",
   "execution_count": 27,
   "metadata": {},
   "outputs": [
    {
     "data": {
      "text/plain": [
       "'quindio'"
      ]
     },
     "execution_count": 27,
     "metadata": {},
     "output_type": "execute_result"
    }
   ],
   "source": [
    "x = colomdict[\"department\"]\n",
    "x"
   ]
  },
  {
   "cell_type": "markdown",
   "metadata": {},
   "source": [
    "#### **Thực hành**\n",
    "\n",
    "Truy cập giá trị price_usd trong từ điểm bogota đã tạo"
   ]
  },
  {
   "cell_type": "code",
   "execution_count": 28,
   "metadata": {},
   "outputs": [
    {
     "data": {
      "text/plain": [
       "'121.555.09'"
      ]
     },
     "execution_count": 28,
     "metadata": {},
     "output_type": "execute_result"
    }
   ],
   "source": [
    "y = bogota[\"price_usd\"]\n",
    "y"
   ]
  },
  {
   "cell_type": "markdown",
   "metadata": {},
   "source": [
    "Bạn cũng có thể dùng get để truy xuất một giá trị"
   ]
  },
  {
   "cell_type": "code",
   "execution_count": 30,
   "metadata": {},
   "outputs": [
    {
     "data": {
      "text/plain": [
       "'quindio'"
      ]
     },
     "execution_count": 30,
     "metadata": {},
     "output_type": "execute_result"
    }
   ],
   "source": [
    "x = colomdict.get(\"department\")\n",
    "x"
   ]
  },
  {
   "cell_type": "markdown",
   "metadata": {},
   "source": [
    "#### **Thực hành**\n",
    "\n",
    "Thử truy cập giá trị cho area_m2 bằng get và in kết quả"
   ]
  },
  {
   "cell_type": "code",
   "execution_count": 32,
   "metadata": {},
   "outputs": [
    {
     "data": {
      "text/plain": [
       "82.0"
      ]
     },
     "execution_count": 32,
     "metadata": {},
     "output_type": "execute_result"
    }
   ],
   "source": [
    "y = bogota.get(\"area_m2\")\n",
    "y"
   ]
  },
  {
   "cell_type": "markdown",
   "metadata": {},
   "source": [
    "## **Dictionary Key**\n",
    "\n",
    "Muốn biết các khóa có trong từ điểm hoặc muốn lặp lại từ điển. Trong trường hợp như vậy, cần viết mã để truy cập tất cả các key-value trong từ điểm bằng cách sử dụng phương thức **keys**:"
   ]
  },
  {
   "cell_type": "code",
   "execution_count": 34,
   "metadata": {},
   "outputs": [
    {
     "data": {
      "text/plain": [
       "dict_keys(['property_type', 'department', 'area'])"
      ]
     },
     "execution_count": 34,
     "metadata": {},
     "output_type": "execute_result"
    }
   ],
   "source": [
    "colomdict.keys()"
   ]
  },
  {
   "cell_type": "markdown",
   "metadata": {},
   "source": [
    "Chuyển đổi đầu ra thành list:"
   ]
  },
  {
   "cell_type": "code",
   "execution_count": 35,
   "metadata": {},
   "outputs": [
    {
     "data": {
      "text/plain": [
       "['property_type', 'department', 'area']"
      ]
     },
     "execution_count": 35,
     "metadata": {},
     "output_type": "execute_result"
    }
   ],
   "source": [
    "list(colomdict.keys())"
   ]
  },
  {
   "cell_type": "markdown",
   "metadata": {},
   "source": [
    "Bạn cũng có thể lặp qua cột dict.keys() mà không cần chuyển nó thành dannh sách:"
   ]
  },
  {
   "cell_type": "code",
   "execution_count": 36,
   "metadata": {},
   "outputs": [
    {
     "name": "stdout",
     "output_type": "stream",
     "text": [
      "property_type\n",
      "department\n",
      "area\n"
     ]
    }
   ],
   "source": [
    "for k in colomdict.keys():\n",
    "    print(k)"
   ]
  },
  {
   "cell_type": "markdown",
   "metadata": {},
   "source": [
    "#### **Thực hành**\n",
    "\n",
    "in giá trị của mỗi key-value trong từ điển colomdict"
   ]
  },
  {
   "cell_type": "code",
   "execution_count": 38,
   "metadata": {},
   "outputs": [
    {
     "name": "stdout",
     "output_type": "stream",
     "text": [
      "('property_type', 'house')\n",
      "('department', 'quindio')\n",
      "('area', 235.0)\n"
     ]
    }
   ],
   "source": [
    "for n in colomdict.items():\n",
    "    print(n)"
   ]
  },
  {
   "cell_type": "markdown",
   "metadata": {},
   "source": [
    "## **JSON**\n",
    "\n",
    "JSON là viết tắt của Java Script Object Notation, và nó là một định dạng văn bản để lưu trữ và vận chuyển dữ liệu.\n",
    "\n",
    "**Làm việc với JSON**\n",
    "\n",
    "JSON hoạt động bằng cách tạo các cặp key-value, trong đó key là dữ liệu có thể được biểu diễn bằng các chữa cái (được gọi là chuỗi). Values JSON có thể là strings, numbers, objects, arrays, boolean data, hoặc null. JSON thường xuất hiện dưới dạnh danh sách các từ điển, trong như sau:\n",
    "\n",
    "Dưới đây là ví dụ từ tập dữ liệu colombia-real-Estate-1 với hai cặp key-value đều bao gồm các giá trị chuỗi:"
   ]
  },
  {
   "cell_type": "code",
   "execution_count": 39,
   "metadata": {},
   "outputs": [
    {
     "data": {
      "text/plain": [
       "[{'property_type': 'house', 'department': 'bogota'},\n",
       " {'property_type': 'house', 'department': 'bogota'},\n",
       " {'property_type': 'house', 'department': 'bogota'}]"
      ]
     },
     "execution_count": 39,
     "metadata": {},
     "output_type": "execute_result"
    }
   ],
   "source": [
    "[\n",
    "    {\"property_type\": \"house\", \"department\": \"bogota\"},\n",
    "    {\"property_type\": \"house\", \"department\": \"bogota\"},\n",
    "    {\"property_type\": \"house\", \"department\": \"bogota\"},\n",
    "]"
   ]
  },
  {
   "cell_type": "markdown",
   "metadata": {},
   "source": [
    "Dưới đây là ví dụ từ tập dữ liệu colombia-real-Estate-1 với hai cặp key-value đều bao gồm các giá trị chuỗi:"
   ]
  },
  {
   "cell_type": "code",
   "execution_count": 40,
   "metadata": {},
   "outputs": [
    {
     "data": {
      "text/plain": [
       "{'property_type': 'house', 'department': 'bogota'}"
      ]
     },
     "execution_count": 40,
     "metadata": {},
     "output_type": "execute_result"
    }
   ],
   "source": [
    "{\"property_type\": \"house\", \"department\": \"bogota\"}"
   ]
  },
  {
   "cell_type": "markdown",
   "metadata": {},
   "source": [
    "Các cặp JSON với các số:"
   ]
  },
  {
   "cell_type": "code",
   "execution_count": 41,
   "metadata": {},
   "outputs": [
    {
     "data": {
      "text/plain": [
       "{'area_m2': 187.0, 'price_usd': 330899.98}"
      ]
     },
     "execution_count": 41,
     "metadata": {},
     "output_type": "execute_result"
    }
   ],
   "source": [
    "{\"area_m2\": 187.0, \"price_usd\": 330899.98}"
   ]
  },
  {
   "cell_type": "markdown",
   "metadata": {},
   "source": [
    "Khi kết hợp nhiều loại giá trị, nó trông như thế này:"
   ]
  },
  {
   "cell_type": "code",
   "execution_count": 42,
   "metadata": {},
   "outputs": [
    {
     "data": {
      "text/plain": [
       "{'property_type': 'house', 'price_usd': 330899.98}"
      ]
     },
     "execution_count": 42,
     "metadata": {},
     "output_type": "execute_result"
    }
   ],
   "source": [
    "{\"property_type\": \"house\", \"price_usd\": 330899.98}"
   ]
  },
  {
   "cell_type": "markdown",
   "metadata": {},
   "source": [
    "### **References & Further Reading**9\n",
    "- [A guide to basic math operations in Python](https://codingexplained.com/coding/python/basic-math-operators-in-python)\n",
    "- [Python documentation on built-in data types](https://docs.python.org/3/library/stdtypes.html)\n",
    "- [Summary of Python data types](https://www.w3schools.com/python/python_datatypes.asp)\n",
    "- [Tutorial on type conversion in Python](https://www.datacamp.com/tutorial/python-data-type-conversion)\n",
    "- [A description of how dictionaries work in Python](https://www.w3schools.com/python/python_dictionaries.asp)\n",
    "- [An introduction to JSON](https://www.w3schools.com/js/js_json_syntax.asp)\n",
    "- [An introduction to lists in Python](https://www.w3schools.com/python/python_lists.asp)\n",
    "- [How to zip lists](https://www.adamsmith.haus/python/answers/how-to-zip-two-lists-in-python)\n",
    "- [Calculating mean, median, and mode in Python](https://stackabuse.com/calculating-mean-median-and-mode-in-python/)\n",
    "- [A brief tutorial of For Loops](https://www.w3schools.com/python/python_for_loops.asp)"
   ]
  }
 ],
 "metadata": {
  "kernelspec": {
   "display_name": "Python 3.10.6 64-bit",
   "language": "python",
   "name": "python3"
  },
  "language_info": {
   "codemirror_mode": {
    "name": "ipython",
    "version": 3
   },
   "file_extension": ".py",
   "mimetype": "text/x-python",
   "name": "python",
   "nbconvert_exporter": "python",
   "pygments_lexer": "ipython3",
   "version": "3.10.6"
  },
  "orig_nbformat": 4,
  "vscode": {
   "interpreter": {
    "hash": "9ad7f758c7f2ebdda2cc4f553f1363ed8fbfe288e0aece9aaf2ec73dff90b611"
   }
  }
 },
 "nbformat": 4,
 "nbformat_minor": 2
}
