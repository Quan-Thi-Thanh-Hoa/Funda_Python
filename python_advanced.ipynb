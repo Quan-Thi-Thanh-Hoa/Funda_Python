{
 "cells": [
  {
   "cell_type": "markdown",
   "metadata": {},
   "source": [
    "# **Python: Advanced**"
   ]
  },
  {
   "cell_type": "markdown",
   "metadata": {},
   "source": [
    "## Strings\n",
    "\n",
    "Strings là gì?\n",
    "\n",
    "Một chuỗi là bất kỳ loại thông tin nào có thể được biểu diễn bằng chữ cái.\n",
    "\n",
    "**Làm việc với strings**\n",
    "\n",
    "Khi làm việc với dữ liệu, thường các tệp và thư mục có tên phù hợp với một mẫu. Ví dụ: dữ liệu về giá bđs ở Colombia và Mexico có thể được lưu trữ trong các tệp có tên:"
   ]
  },
  {
   "cell_type": "markdown",
   "metadata": {},
   "source": [
    "1. colombia-real-estate-1.csv\n",
    "2. colombia-real-estate-2.csv\n",
    "3. colombia-real-estate-3.csv\n",
    "4. mexico-city-real-estate-1.csv\n",
    "5. mexico-city-real-estate-2.csv\n",
    "6. mexico-city-real-estate-3.csv\n",
    "7. mexico-city-real-estate-4.csv\n",
    "8. mexico-city-real-estate-5.csv\n",
    "9. mexico-city-test-features.csv\n",
    "10. mexico-city-test-labels.csv"
   ]
  },
  {
   "cell_type": "markdown",
   "metadata": {},
   "source": [
    "Khi danh sách các tệp ngắn như thế, không khó để tìm những tệp muốn, nhưng nếu danh sách dài hơn, có thể cần trợ giúp. Nếu chỉ quan tâm đến việc tìm kiếm các tệp liên quan đến Mexico, có thể tìm kiếm các tệp bắt đầu bằng mexico-city-real-Estate. Để làm được điều này, sử dụng hàm **.glob.**"
   ]
  },
  {
   "cell_type": "code",
   "execution_count": 1,
   "metadata": {},
   "outputs": [
    {
     "data": {
      "text/plain": [
       "['C:\\\\Users\\\\Quan Thi Thanh Hoa\\\\AppData\\\\University\\\\@textbook\\\\mexico-city-real-estate-1.csv',\n",
       " 'C:\\\\Users\\\\Quan Thi Thanh Hoa\\\\AppData\\\\University\\\\@textbook\\\\mexico-city-real-estate-2.csv',\n",
       " 'C:\\\\Users\\\\Quan Thi Thanh Hoa\\\\AppData\\\\University\\\\@textbook\\\\mexico-city-real-estate-3.csv',\n",
       " 'C:\\\\Users\\\\Quan Thi Thanh Hoa\\\\AppData\\\\University\\\\@textbook\\\\mexico-city-real-estate-4.csv',\n",
       " 'C:\\\\Users\\\\Quan Thi Thanh Hoa\\\\AppData\\\\University\\\\@textbook\\\\mexico-city-real-estate-5.csv']"
      ]
     },
     "execution_count": 1,
     "metadata": {},
     "output_type": "execute_result"
    }
   ],
   "source": [
    "import glob\n",
    "\n",
    "glob.glob(r\"C:\\Users\\Quan Thi Thanh Hoa\\AppData\\University\\@textbook\\mexico-city-real-estate-[0-9].csv\")"
   ]
  },
  {
   "cell_type": "markdown",
   "metadata": {},
   "source": [
    "Hàm **.glob** chp phép khớp mẫu. Trong ví dụ này [0-9] cho phép bất kỳ chữ số nào từ 0-9, nhưng có rất nhiều mẫu khác mà **.glob** có thể tìm thấy:\n",
    "\n",
    "- __*__: Khớp với bất kỳ số ký tự nào\n",
    "- **?**: Khớp một ký tự thuộc bất kỳ loại nào\n",
    "- **[a-z]**: Khớp bất kỳ ký tự chữ cái viết chữ thường nào trong ngôn ngữ hiện tại.\n",
    "- **[A-Z]**: Khớp bất kỳ ký tự chữ cái viết hoa nào trong ngôn ngữ hiệu tại.\n",
    "- **[! a-z]**: Không khớp với bất kỳ ký tự chữ cái viết thường nào."
   ]
  },
  {
   "cell_type": "code",
   "execution_count": 2,
   "metadata": {},
   "outputs": [
    {
     "data": {
      "text/plain": [
       "['C:\\\\Users\\\\Quan Thi Thanh Hoa\\\\AppData\\\\University\\\\@textbook\\\\mexico-city-real-estate-1.csv',\n",
       " 'C:\\\\Users\\\\Quan Thi Thanh Hoa\\\\AppData\\\\University\\\\@textbook\\\\mexico-city-real-estate-2.csv',\n",
       " 'C:\\\\Users\\\\Quan Thi Thanh Hoa\\\\AppData\\\\University\\\\@textbook\\\\mexico-city-real-estate-3.csv',\n",
       " 'C:\\\\Users\\\\Quan Thi Thanh Hoa\\\\AppData\\\\University\\\\@textbook\\\\mexico-city-real-estate-4.csv',\n",
       " 'C:\\\\Users\\\\Quan Thi Thanh Hoa\\\\AppData\\\\University\\\\@textbook\\\\mexico-city-real-estate-5.csv',\n",
       " 'C:\\\\Users\\\\Quan Thi Thanh Hoa\\\\AppData\\\\University\\\\@textbook\\\\mexico-city-test-features.csv',\n",
       " 'C:\\\\Users\\\\Quan Thi Thanh Hoa\\\\AppData\\\\University\\\\@textbook\\\\mexico-city-test-labels.csv']"
      ]
     },
     "execution_count": 2,
     "metadata": {},
     "output_type": "execute_result"
    }
   ],
   "source": [
    "glob.glob(r\"C:\\Users\\Quan Thi Thanh Hoa\\AppData\\University\\@textbook\\mexico-city*\")"
   ]
  },
  {
   "cell_type": "markdown",
   "metadata": {},
   "source": [
    "#### **Thực hành**\n",
    "\n",
    "Tìm các tệp dữ liệu có chứa từ test"
   ]
  },
  {
   "cell_type": "code",
   "execution_count": null,
   "metadata": {},
   "outputs": [],
   "source": []
  },
  {
   "cell_type": "markdown",
   "metadata": {},
   "source": [
    "Đến đây, chỉ tìm kiếm các tệp trong một mục cụ thể. Cũng có thể tìm kiếm các tệp trong các thư mục con. Để có danh sách tất cả các tệp sổ ghi chép bắt đầu từ thư mục phía trên tệp này và tất cả các tệp khác bên dưới nó, có thể sử dụng:"
   ]
  },
  {
   "cell_type": "code",
   "execution_count": null,
   "metadata": {},
   "outputs": [],
   "source": []
  },
  {
   "cell_type": "markdown",
   "metadata": {},
   "source": [
    "## **Làm việc với f-strings**\n",
    "\n",
    "Thường sử dụng print để kiểm tra kết quả đầu ra bằng Python, nhưng hầu hết các ví dụ đã print tương đối ngắn.\n",
    "\n",
    "Chuỗi được định dạnh hữu ích vì nhiều ký do, nhưng khi chúng ta lắp ráp và định dạnh một chuỗi dài, việc sử dụng print có thể khó khăn và tốn thời gian. Cùng dòng, nó cũng hữu ích để đánh giá trực tiếp các biến và biểu thức trong chuỗi. Để thực hiện những điều này, chúng ta tạo một chuỗi f\"\"\n",
    "\n",
    "Mã sẽ như thế này:"
   ]
  },
  {
   "cell_type": "code",
   "execution_count": 5,
   "metadata": {},
   "outputs": [
    {
     "data": {
      "text/plain": [
       "'My home is Mexico City'"
      ]
     },
     "execution_count": 5,
     "metadata": {},
     "output_type": "execute_result"
    }
   ],
   "source": [
    "Home = \"Mexico City\"\n",
    "f\"My home is {Home}\""
   ]
  },
  {
   "cell_type": "code",
   "execution_count": 6,
   "metadata": {},
   "outputs": [
    {
     "name": "stdout",
     "output_type": "stream",
     "text": [
      "Python first appeared on February 20 in the year 1991.\n",
      "Python is 31 years old.\n"
     ]
    }
   ],
   "source": [
    "import datetime\n",
    "\n",
    "python_birthday = datetime.datetime(year=1991, month=2, day=20)\n",
    "print(f\"Python first appeared on{python_birthday: %B %d} in the year{python_birthday: %Y}.\"\n",
    "      )\n",
    "now = datetime.datetime.now()\n",
    "print(f\"Python is {now.year - python_birthday.year} years old.\")"
   ]
  },
  {
   "cell_type": "markdown",
   "metadata": {},
   "source": [
    "#### **Thực hành**"
   ]
  },
  {
   "cell_type": "code",
   "execution_count": 7,
   "metadata": {},
   "outputs": [
    {
     "name": "stdout",
     "output_type": "stream",
     "text": [
      "Ngày tháng năm sinh là March 14 vào năm 2000\n",
      "Năm nay số tuổi là 22 tuổi.\n"
     ]
    }
   ],
   "source": [
    "import datetime\n",
    "day = int(input(\"Enter age: \")) # int là chỉ lấy số nguyên\n",
    "month = int(input(\"Enter age: \"))\n",
    "year = int(input(\"Enter age: \"))\n",
    "\n",
    "birthday = datetime.datetime(year, month, day)\n",
    "print(f\"Ngày tháng năm sinh là{birthday: %B %d} vào năm{birthday: %Y}\")\n",
    "now = datetime.datetime.now()\n",
    "print(f\"Năm nay số tuổi là {now.year - birthday.year} tuổi.\")"
   ]
  },
  {
   "cell_type": "code",
   "execution_count": 8,
   "metadata": {},
   "outputs": [
    {
     "name": "stdout",
     "output_type": "stream",
     "text": [
      "Ngày sinh March 14 vào năm 2000\n",
      "Năm nay số tuổi là 22 tuổi.\n"
     ]
    }
   ],
   "source": [
    "import datetime\n",
    "thanhhoa_birthday = datetime.datetime(year=2000, month=3, day=14)\n",
    "print(f\"Ngày sinh{thanhhoa_birthday: %B %d} vào năm{thanhhoa_birthday: %Y}\")\n",
    "now = datetime.datetime.now()\n",
    "print(f\"Năm nay số tuổi là {now.year - thanhhoa_birthday.year} tuổi.\")"
   ]
  },
  {
   "cell_type": "markdown",
   "metadata": {},
   "source": [
    "Nguồn tham khảo thêm\n",
    "- [Online tutorial on finding list lengths in Python](https://www.w3schools.com/python/gloss_python_list_length.asp)\n",
    "- [Official python documentation on the len function](https://docs.python.org/3/library/functions.html?#len)"
   ]
  },
  {
   "cell_type": "markdown",
   "metadata": {},
   "source": [
    "# Phần này các bạn có thể bỏ qua vì để làm được phần này cần cài đặng pymongo riêng mới xử lý được dữ liệu.\n",
    "- Cách làm, search gg"
   ]
  },
  {
   "cell_type": "markdown",
   "metadata": {},
   "source": [
    "## **Iterators and Iterables** (Trình lặp lại và lặp lại)\n",
    "\n",
    "Danh sách là một vùng chứa có số lượng giá trị có thể đếm được. Bởi vì điều đó đúng, một danh sách là một danh sách có thể lặp lại, nghĩa là chúng ta có thể lặp lại từng mục một. Nói cách khác, các trình vòng lặp chỉ lấy các giá trị này khi chúng ta yêu cầu chúng.\n",
    "\n",
    "Nếu cố gắng đưa vào một cơ sở dữ liệu lớn - ví dụ hơn một triệu giá trị - yêu cầu mọi hành động được áp dụng cho mọi giá trị sẽ chiếm một lượng lớn bộ nhớ. Các trình lặp rất hữu ích vì chúng cho phép chúng ta giải phóng bộ nhớ để sử dụng cho các tác vụ khác. \n",
    "\n",
    "Hãy dành nhiều thời gian hơn để làm việc với cơ sở dữ liệu sau này, bây giờ hãy xem đoạn mã:"
   ]
  },
  {
   "cell_type": "code",
   "execution_count": 9,
   "metadata": {},
   "outputs": [
    {
     "data": {
      "text/plain": [
       "[{'name': 'admin', 'sizeOnDisk': 40960, 'empty': False},\n",
       " {'name': 'config', 'sizeOnDisk': 61440, 'empty': False},\n",
       " {'name': 'local', 'sizeOnDisk': 73728, 'empty': False}]"
      ]
     },
     "execution_count": 9,
     "metadata": {},
     "output_type": "execute_result"
    }
   ],
   "source": [
    "from pymongo import MongoClient\n",
    "\n",
    "client = MongoClient(host=\"localhost\", port = 27017)\n",
    "\n",
    "(list(client.list_databases()))"
   ]
  },
  {
   "cell_type": "markdown",
   "metadata": {},
   "source": [
    "Bỏ hai dòng mã đầu tiên sang một bên, chúng ta có một phương thức trả về danh sách bốn cơ sở dữ liệu. Nếu chúng ta muốn tự kiểm tra từng cơ sở dữ liệu, chúng ta có thể tạo một biến được gọi là results, và sau đó print nó ra"
   ]
  },
  {
   "cell_type": "code",
   "execution_count": 10,
   "metadata": {},
   "outputs": [
    {
     "name": "stdout",
     "output_type": "stream",
     "text": [
      "<pymongo.command_cursor.CommandCursor object at 0x00000163AC26A320>\n"
     ]
    }
   ],
   "source": [
    "results = client.list_databases()\n",
    "print((results))"
   ]
  },
  {
   "cell_type": "markdown",
   "metadata": {},
   "source": [
    "Điều đó có vẻ không giống với bất cứ điều gì, nhưng nếu chúng ta thêm trình lặp next (), chúng ta sẽ nhận lại được thứ gì đó hữu ích hơn"
   ]
  },
  {
   "cell_type": "markdown",
   "metadata": {},
   "source": [
    "## Đọc hiểu danh sách <a id='list-compilities'> </a>"
   ]
  },
  {
   "cell_type": "markdown",
   "metadata": {},
   "source": [
    "Khả năng hiểu danh sách được sử dụng để lặp lại qua các danh sách mà không cần viết các vòng lặp một cách rõ ràng, điều này đặc biệt hữu ích để lọc dữ liệu theo một điều kiện cụ thể.\n",
    "\n",
    "Hãy xem danh sách hiển thị giá bất động sản bằng đồng peso Mexico."
   ]
  },
  {
   "cell_type": "code",
   "execution_count": 11,
   "metadata": {},
   "outputs": [
    {
     "data": {
      "text/plain": [
       "[35000000.0, 2000000.0, 2700000.0, 6347000.0, 6994543.16, 6617835.61, 670000.0]"
      ]
     },
     "execution_count": 11,
     "metadata": {},
     "output_type": "execute_result"
    }
   ],
   "source": [
    "price_mexican_pesos = [\n",
    "    35000000.0,\n",
    "    2000000.0,\n",
    "    2700000.0,\n",
    "    6347000.0,\n",
    "    6994543.16,\n",
    "    6617835.61,\n",
    "    670000.0,\n",
    "]\n",
    "price_mexican_pesos"
   ]
  },
  {
   "cell_type": "markdown",
   "metadata": {},
   "source": [
    "Nhưng có thể chúng tôi muốn so sánh những giá này với giá trị bất động sản ở Colombia. Để làm được điều đó, chúng tôi sẽ cần tìm ra cách thể hiện dữ liệu trong danh sách của chúng tôi bằng đồng peso Colombia. Chúng ta có thể sử dụng vòng lặp `for` để thực hiện chuyển đổi dựa trên tỷ giá hối đoái từ 1 peso Mexico sang 190 peso Colombia. Mã trông như thế này:"
   ]
  },
  {
   "cell_type": "code",
   "execution_count": 12,
   "metadata": {},
   "outputs": [
    {
     "name": "stdout",
     "output_type": "stream",
     "text": [
      "[6650000000.0, 380000000.0, 513000000.0, 1205930000.0, 1328963200.4, 1257388765.9, 127300000.0]\n"
     ]
    }
   ],
   "source": [
    "price_colombian_pesos = []\n",
    "for price in price_mexican_pesos:\n",
    "    price_colombian_pesos.append(price * 190)\n",
    "\n",
    "print(price_colombian_pesos)"
   ]
  },
  {
   "cell_type": "markdown",
   "metadata": {},
   "source": [
    "Nhưng điều gì sẽ xảy ra nếu chúng ta có thể làm điều tương tự, nhưng sử dụng ít dòng hơn? Đó là những gì mà `` đọc hiểu danh sách '' là để làm. Mã trông như thế này:"
   ]
  },
  {
   "cell_type": "code",
   "execution_count": 13,
   "metadata": {},
   "outputs": [
    {
     "name": "stdout",
     "output_type": "stream",
     "text": [
      "[6650000000.0, 380000000.0, 513000000.0, 1205930000.0, 1328963200.4, 1257388765.9, 127300000.0]\n"
     ]
    }
   ],
   "source": [
    "price_colombian_pesos = [price * 190 for price in price_mexican_pesos]\n",
    "\n",
    "print(price_colombian_pesos)"
   ]
  },
  {
   "cell_type": "markdown",
   "metadata": {},
   "source": [
    "Chúng tôi có thể sử dụng tính năng hiểu danh sách để tìm tất cả các mục nhập `house` trong danh sách các thuộc tính này, như sau:"
   ]
  },
  {
   "cell_type": "code",
   "execution_count": 14,
   "metadata": {},
   "outputs": [],
   "source": [
    "records = [\n",
    "    'sell,apartment,|México|Distrito Federal|Benito Juárez|,\"19.384467,-99.135872\",1860000.0,MXN,1843173.75,97996.85,,70.0,,26571.42857142857',\n",
    "    'sell,apartment,|México|Distrito Federal|Iztapalapa|Cerro de La Estrella|,\"19.324123,-99.074132\",700000.0,MXN,693667.44,36880.53,,50.0,,14000.0',\n",
    "    'sell,house,|México|Distrito Federal|La Magdalena Contreras|San Jerónimo Lídice|,\"19.317653,-99.236291\",3350000.0,MXN,3319694.98,176499.72,,350.0,,9571.42857142857',\n",
    "    'sell,apartment,|México|Distrito Federal|Cuauhtémoc|,\"19.446313,-99.14006\",405108.0,MXN,401443.16,21343.71,,50.0,,8102.16',\n",
    "    'sell,house,|México|Distrito Federal|Coyoacán|,\"19.303906,-99.107812\",7200000.0,MXN,7134866.79,379342.68,,250.0,,28800.0',\n",
    "    'sell,apartment,|México|Distrito Federal|Benito Juárez|,\"19.374171,-99.181264\",2425000.0,MXN,2403062.73,127764.72,,96.0,,25260.416666666668',\n",
    "    'sell,apartment,|México|Distrito Federal|Tlalpan|,\"19.287428,-99.122283\",1250000.0,MXN,1238692.07,65858.1,,65.0,,19230.76923076923',\n",
    "    'sell,house,|México|Distrito Federal|Venustiano Carranza|,\"19.436436,-99.117256\",1362000.0,MXN,1349678.96,71758.99,,98.0,,13897.959183673467',\n",
    "    'sell,apartment,|México|Distrito Federal|Benito Juárez|,\"19.382429,-99.160199\",2250000.0,MXN,2229645.73,118544.58,,90.0,,25000.0',\n",
    "    'sell,house,|México|Distrito Federal|Tlalpan|Granjas Coapa|,\"19.300456,-99.115741\",3900000.0,MXN,3864719.42,205477.28,,153.0,,25490.19607843137',\n",
    "    'sell,apartment,|México|Distrito Federal|Álvaro Obregón|,\"19.363167,-99.276028\",9000000.0,MXN,8918583.49,474178.35,,188.0,,47872.34042553192',\n",
    "    'sell,house,|México|Distrito Federal|Coyoacán|Villa Coyoacán|,\"19.348694,-99.16291\",1150000.0,USD,21629775.0,1150000.0,,555.0,,2072.072072072072',\n",
    "    'sell,house,|México|Distrito Federal|Tlalpan|,\"19.300963,-99.144237\",7500000.0,MXN,7432152.81,395148.62,,385.0,,19480.51948051948',\n",
    "    'sell,house,|México|Distrito Federal|Coyoacán|Paseos de Taxqueña|,\"19.343979,-99.124863\",6310000.0,MXN,6252917.98,332451.71,,183.0,,34480.87431693989',\n",
    "    'sell,apartment,|México|Distrito Federal|Coyoacán|San Diego Churubusco|,\"19.354509,-99.149765\",10000000.0,MXN,9909537.15,526864.83,,293.0,,34129.69283276451',\n",
    "]"
   ]
  },
  {
   "cell_type": "code",
   "execution_count": 15,
   "metadata": {},
   "outputs": [
    {
     "data": {
      "text/plain": [
       "['sell,house,|México|Distrito Federal|La Magdalena Contreras|San Jerónimo Lídice|,\"19.317653,-99.236291\",3350000.0,MXN,3319694.98,176499.72,,350.0,,9571.42857142857',\n",
       " 'sell,house,|México|Distrito Federal|Coyoacán|,\"19.303906,-99.107812\",7200000.0,MXN,7134866.79,379342.68,,250.0,,28800.0',\n",
       " 'sell,house,|México|Distrito Federal|Venustiano Carranza|,\"19.436436,-99.117256\",1362000.0,MXN,1349678.96,71758.99,,98.0,,13897.959183673467',\n",
       " 'sell,house,|México|Distrito Federal|Tlalpan|Granjas Coapa|,\"19.300456,-99.115741\",3900000.0,MXN,3864719.42,205477.28,,153.0,,25490.19607843137',\n",
       " 'sell,house,|México|Distrito Federal|Coyoacán|Villa Coyoacán|,\"19.348694,-99.16291\",1150000.0,USD,21629775.0,1150000.0,,555.0,,2072.072072072072',\n",
       " 'sell,house,|México|Distrito Federal|Tlalpan|,\"19.300963,-99.144237\",7500000.0,MXN,7432152.81,395148.62,,385.0,,19480.51948051948',\n",
       " 'sell,house,|México|Distrito Federal|Coyoacán|Paseos de Taxqueña|,\"19.343979,-99.124863\",6310000.0,MXN,6252917.98,332451.71,,183.0,,34480.87431693989']"
      ]
     },
     "execution_count": 15,
     "metadata": {},
     "output_type": "execute_result"
    }
   ],
   "source": [
    "[row for row in records if \"house\" in row]"
   ]
  },
  {
   "cell_type": "markdown",
   "metadata": {},
   "source": [
    "<font size=\"+1\">Practice</font> \n",
    "\n",
    "Explore the list records in the list, and find all entries located in `Tlalpan`"
   ]
  },
  {
   "cell_type": "code",
   "execution_count": 16,
   "metadata": {},
   "outputs": [
    {
     "data": {
      "text/plain": [
       "['sell,apartment,|México|Distrito Federal|Tlalpan|,\"19.287428,-99.122283\",1250000.0,MXN,1238692.07,65858.1,,65.0,,19230.76923076923',\n",
       " 'sell,house,|México|Distrito Federal|Tlalpan|Granjas Coapa|,\"19.300456,-99.115741\",3900000.0,MXN,3864719.42,205477.28,,153.0,,25490.19607843137',\n",
       " 'sell,house,|México|Distrito Federal|Tlalpan|,\"19.300963,-99.144237\",7500000.0,MXN,7432152.81,395148.62,,385.0,,19480.51948051948']"
      ]
     },
     "execution_count": 16,
     "metadata": {},
     "output_type": "execute_result"
    }
   ],
   "source": [
    "[row for row in records if \"Tlalpan\" in row]"
   ]
  },
  {
   "cell_type": "markdown",
   "metadata": {},
   "source": [
    "Khi chúng tôi viết mã bằng Python, chúng tôi muốn tạo các chương trình có thể đọc được. Một trong những cách dễ nhất để làm cho một chương trình có thể đọc được là không lặp lại các đoạn mã làm cùng một việc. Chúng tôi thực hiện điều đó bằng cách sử dụng `function`. Ví dụ: bạn có thể có diện tích bề mặt của một bất động sản tính bằng mét vuông, nhưng bạn muốn xem nó bằng bộ vuông. Hãy nhớ rằng một mét vuông = 10,76391 bộ vuông, bạn có thể viết một hàm bắt đầu với diện tích tính bằng mét vuông và đưa ra đầu ra là diện tích theo bộ vuông. Mã trông như thế này:"
   ]
  },
  {
   "cell_type": "code",
   "execution_count": 17,
   "metadata": {},
   "outputs": [],
   "source": [
    "def m2toft2(area_meter2):\n",
    "    area_feet2 = 10.76391 * area_meter2\n",
    "    return area_feet2"
   ]
  },
  {
   "cell_type": "markdown",
   "metadata": {},
   "source": [
    "Đoạn mã trên định nghĩa một hàm có tên là `m2toft2` nhận vào một đầu vào duy nhất, được gọi là` area_meters` và trả về một đầu ra duy nhất, được gọi là area_feet`. Hãy thử một cái khác:"
   ]
  },
  {
   "cell_type": "code",
   "execution_count": 18,
   "metadata": {},
   "outputs": [
    {
     "data": {
      "text/plain": [
       "43.05564"
      ]
     },
     "execution_count": 18,
     "metadata": {},
     "output_type": "execute_result"
    }
   ],
   "source": [
    "m2toft2(4)"
   ]
  },
  {
   "cell_type": "markdown",
   "metadata": {},
   "source": [
    "Bản thân một hàm có thể khó hiểu, vì vậy hãy thêm một số nhận xét mô tả chức năng đó."
   ]
  },
  {
   "cell_type": "code",
   "execution_count": 19,
   "metadata": {},
   "outputs": [],
   "source": [
    "def m2toft2(area_meter2):\n",
    "    \"\"\"\n",
    "    This function takes in as input the area in meters squared\n",
    "    and returns as an output the area in square feet\n",
    "\n",
    "    input: area_meter2, the area in square meters\n",
    "    output: area_feet2, the area in square feet\n",
    "    \"\"\"\n",
    "    area_feet2 = 10.76391 * area_meter2\n",
    "    return area_feet2"
   ]
  },
  {
   "cell_type": "markdown",
   "metadata": {},
   "source": [
    "Bằng cách này, nếu bạn quên những gì `m2toft2` làm, Python sẽ có thể nhắc bạn, như thế này:"
   ]
  },
  {
   "cell_type": "code",
   "execution_count": 20,
   "metadata": {},
   "outputs": [
    {
     "name": "stdout",
     "output_type": "stream",
     "text": [
      "Help on function m2toft2 in module __main__:\n",
      "\n",
      "m2toft2(area_meter2)\n",
      "    This function takes in as input the area in meters squared\n",
      "    and returns as an output the area in square feet\n",
      "    \n",
      "    input: area_meter2, the area in square meters\n",
      "    output: area_feet2, the area in square feet\n",
      "\n"
     ]
    }
   ],
   "source": [
    "help(m2toft2)"
   ]
  },
  {
   "cell_type": "markdown",
   "metadata": {},
   "source": [
    "Điều này có thể đặc biệt hữu ích cho các chương trình lớn có nhiều hàm, một số trong số đó có thể có nhiều đối số. Ví dụ: một hàm có thể lấy danh sách các khu vực thuộc tính theo mét vuông và danh sách giá trên mét vuông, đồng thời trả về danh sách có diện tích tính bằng feet vuông và giá trên foot vuông. Hàm đó sẽ giống như sau:"
   ]
  },
  {
   "cell_type": "code",
   "execution_count": 21,
   "metadata": {},
   "outputs": [],
   "source": [
    "def convert_area(area_meters2):\n",
    "    \"\"\"\n",
    "    This function takes in a list of area in square meters and\n",
    "    returns area in square feet\n",
    "    \n",
    "    input: area_meters2, area in square meters\n",
    "    output: area_feet, area in square feet\n",
    "    \"\"\"\n",
    "    area_feet2 = [item * 10.76391 for item in area_meters2]\n",
    "    return area_feet2"
   ]
  },
  {
   "cell_type": "markdown",
   "metadata": {},
   "source": [
    "Hãy thử nó và xem điều gì sẽ xảy ra:"
   ]
  },
  {
   "cell_type": "code",
   "execution_count": 22,
   "metadata": {},
   "outputs": [],
   "source": [
    "surface_total_in_m2 = [186000.0, 700000.0, 3350000.0]"
   ]
  },
  {
   "cell_type": "code",
   "execution_count": 23,
   "metadata": {},
   "outputs": [
    {
     "data": {
      "text/plain": [
       "[2002087.2599999998, 7534736.999999999, 36059098.5]"
      ]
     },
     "execution_count": 23,
     "metadata": {},
     "output_type": "execute_result"
    }
   ],
   "source": [
    "surface_total_in_ft2 = convert_area(surface_total_in_m2)\n",
    "surface_total_in_ft2"
   ]
  },
  {
   "cell_type": "markdown",
   "metadata": {},
   "source": [
    "<font size = \"+ 1\"> Thực hành </font>\n",
    "\n",
    "Python đi kèm với nhiều hàm được xác định trước. Hãy thử cái này:"
   ]
  },
  {
   "cell_type": "code",
   "execution_count": 24,
   "metadata": {},
   "outputs": [
    {
     "name": "stdout",
     "output_type": "stream",
     "text": [
      "Help on built-in function max in module builtins:\n",
      "\n",
      "max(...)\n",
      "    max(iterable, *[, default=obj, key=func]) -> value\n",
      "    max(arg1, arg2, *args, *[, key=func]) -> value\n",
      "    \n",
      "    With a single iterable argument, return its biggest item. The\n",
      "    default keyword-only argument specifies an object to return if\n",
      "    the provided iterable is empty.\n",
      "    With two or more arguments, return the largest argument.\n",
      "\n"
     ]
    }
   ],
   "source": [
    "help(max)"
   ]
  },
  {
   "cell_type": "markdown",
   "metadata": {},
   "source": [
    "Bây giờ, hãy viết một hàm trả về giá bất động sản trên một đơn vị diện tích lớn nhất cho danh sách giá bất động sản trên một đơn vị diện tích, rồi sử dụng hàm của bạn cho danh sách `price_usd_per_m2`."
   ]
  },
  {
   "cell_type": "code",
   "execution_count": 25,
   "metadata": {},
   "outputs": [],
   "source": [
    "price_usd_per_m2 = [97996.85, 36880.53, 176499.72]"
   ]
  },
  {
   "cell_type": "code",
   "execution_count": 28,
   "metadata": {},
   "outputs": [
    {
     "data": {
      "text/plain": [
       "176499.72"
      ]
     },
     "execution_count": 28,
     "metadata": {},
     "output_type": "execute_result"
    }
   ],
   "source": [
    "def find_max_price_per_area(price_per_meter2):\n",
    "    \"\"\"\n",
    "    Đưa ra một danh sách với giá trên một đơn vị diện tích, chức năng này\n",
    "    trả về giá đắt nhất trên một đơn vị diện tích\n",
    "\n",
    "    input: price_per_meter, danh sách với giá trên một đơn vị diện tích của mỗi thuộc tính\n",
    "    sản lượng: giá của bất động sản đắt nhất trên một đơn vị diện tích\n",
    "    \"\"\"\n",
    "    \n",
    "    return max(price_usd_per_m2)\n",
    "\n",
    "\n",
    "find_max_price_per_area(price_usd_per_m2)"
   ]
  },
  {
   "cell_type": "markdown",
   "metadata": {},
   "source": [
    "<font size = \"+ 1\"> Thực hành </font>\n",
    "\n",
    "Ví dụ trước không mở rộng hàm tối đa trong Python. Hãy nhớ rằng có thể sử dụng khả năng hiểu danh sách để lặp qua danh sách, sử dụng hiểu danh sách hoặc vòng lặp để viết một hàm, với danh sách các khu vực bất động sản và danh sách giá bất động sản tương ứng trên một đơn vị diện tích, trả về tổng giá của giá đắt nhất tài sản."
   ]
  },
  {
   "cell_type": "code",
   "execution_count": 34,
   "metadata": {},
   "outputs": [
    {
     "data": {
      "text/plain": [
       "[186000.0, 700000.0, 3350000.0]"
      ]
     },
     "execution_count": 34,
     "metadata": {},
     "output_type": "execute_result"
    }
   ],
   "source": [
    "def find_max_price(area_meter2, price_per_meter2):\n",
    "    \"\"\"\n",
    "    Đưa ra hai danh sách, danh sách đầu tiên có các khu vực thuộc tính\n",
    "    và thứ hai với giá trên một đơn vị diện tích, chức năng này\n",
    "    trả về tài sản đắt nhất bằng cách sử dụng tính năng hiểu danh sách\n",
    "\n",
    "    input: area_meter2, danh sách với tổng diện tích của từng thuộc tính\n",
    "    input: price_per_meter2, danh sách với giá trên một đơn vị diện tích của từng thuộc tính\n",
    "    sản lượng: giá của tài sản đắt nhất\n",
    "    \"\"\"\n",
    "    \n",
    "    return max(area_meter2,price_per_meter2)\n",
    "\n",
    "\n",
    "find_max_price(surface_total_in_m2, price_usd_per_m2)"
   ]
  },
  {
   "cell_type": "markdown",
   "metadata": {},
   "source": [
    "# Lambda Functions"
   ]
  },
  {
   "cell_type": "markdown",
   "metadata": {},
   "source": [
    "Các định nghĩa hàm mà chúng ta đang làm việc cho đến nay phù hợp với hầu hết các mục đích, nhưng chúng có thể hơi dài. Khi điều này xảy ra, bạn có thể muốn sử dụng một phương thức ngắn hơn để thể hiện một hàm; đó là hàm của `lambda`. Mã của Hare cho một hàm thêm 3 vào một số."
   ]
  },
  {
   "cell_type": "code",
   "execution_count": 36,
   "metadata": {},
   "outputs": [],
   "source": [
    "add_three = lambda a: a + 3 # noqa: E731"
   ]
  },
  {
   "cell_type": "markdown",
   "metadata": {},
   "source": [
    "Bây giờ chúng tôi đã xác định chức năng của mình, hãy thử nó. Nếu chúng ta muốn hàm thêm 3 thành 5, syntax sẽ như sau:"
   ]
  },
  {
   "cell_type": "code",
   "execution_count": 37,
   "metadata": {},
   "outputs": [
    {
     "data": {
      "text/plain": [
       "8"
      ]
     },
     "execution_count": 37,
     "metadata": {},
     "output_type": "execute_result"
    }
   ],
   "source": [
    "add_three(5)"
   ]
  },
  {
   "cell_type": "markdown",
   "metadata": {},
   "source": [
    "<font size = \"+ 1\"> Thực hành </font>\n",
    "\n",
    "Viết một hàm lambda có tên là `sub_4`, hàm này sẽ trừ 4 từ một số nhất định, sau đó thử với số 7."
   ]
  },
  {
   "cell_type": "code",
   "execution_count": 38,
   "metadata": {},
   "outputs": [
    {
     "data": {
      "text/plain": [
       "3"
      ]
     },
     "execution_count": 38,
     "metadata": {},
     "output_type": "execute_result"
    }
   ],
   "source": [
    "sub_4 = lambda a: a - 4  # noqa: E731\n",
    "sub_4(7)"
   ]
  },
  {
   "cell_type": "markdown",
   "metadata": {},
   "source": [
    "# Files"
   ]
  },
  {
   "cell_type": "markdown",
   "metadata": {},
   "source": [
    "### Tạo tệp bằng Context Manager\n",
    "\n",
    "**Context Manager** cho phép bạn phân bổ và giải phóng tài nguyên một cách chính xác khi bạn muốn. Ví dụ được sử dụng rộng rãi nhất về trình quản lý ngữ cảnh là câu lệnh `with`. Giả sử bạn có hai hoạt động liên quan mà bạn muốn thực hiện như một cặp, với một khối mã ở giữa. Context Manager cho phép bạn làm điều đó cụ thể. Ví dụ:"
   ]
  },
  {
   "cell_type": "code",
   "execution_count": 39,
   "metadata": {},
   "outputs": [],
   "source": [
    "with open(r\"C:\\Users\\Quan Thi Thanh Hoa\\AppData\\University\\@textbook\\By_English\\@textbook\\example.txt\", \"w\") as f:\n",
    "    f.write(\"Hello\")"
   ]
  },
  {
   "cell_type": "markdown",
   "metadata": {},
   "source": [
    "Đoạn mã trên sẽ tạo một tệp có tên là `example.txt` bên trong thư mục dữ liệu, chỉ với một dòng:`Hello`. Chúng ta có thể thêm nhiều dòng vào tệp bằng cách thêm dấu `/n` để phân tách dòng."
   ]
  },
  {
   "cell_type": "code",
   "execution_count": 40,
   "metadata": {},
   "outputs": [],
   "source": [
    "with open(r\"C:\\Users\\Quan Thi Thanh Hoa\\AppData\\University\\@textbook\\By_English\\@textbook\\example.txt\", \"w\") as f:\n",
    "    f.write(\"Hello\")\n",
    "    f.write(\"\\n\")\n",
    "    f.write(\"Hola\")"
   ]
  },
  {
   "cell_type": "markdown",
   "metadata": {},
   "source": [
    "<font size = \"+ 1\"> Thực hành </font>\n",
    "\n",
    "Tạo một tệp `txt` có tên là` pracetice.txt` bên trong thư mục `data` với ba dòng bằng trình quản lý ngữ cảnh."
   ]
  },
  {
   "cell_type": "code",
   "execution_count": 41,
   "metadata": {},
   "outputs": [],
   "source": [
    "with open(r\"C:\\Users\\Quan Thi Thanh Hoa\\AppData\\University\\@textbook\\By_English\\@textbook\\practice.txt\", \"w\") as f:\n",
    "    f.write(\"data\")"
   ]
  },
  {
   "cell_type": "markdown",
   "metadata": {},
   "source": [
    "# **Tài liệu tham khảo và Đọc thêm**\n",
    "\n",
    "- [Context Manager](https://book.pythontips.com/en/latest/context_managers.html)"
   ]
  }
 ],
 "metadata": {
  "kernelspec": {
   "display_name": "Python 3.10.6 64-bit",
   "language": "python",
   "name": "python3"
  },
  "language_info": {
   "codemirror_mode": {
    "name": "ipython",
    "version": 3
   },
   "file_extension": ".py",
   "mimetype": "text/x-python",
   "name": "python",
   "nbconvert_exporter": "python",
   "pygments_lexer": "ipython3",
   "version": "3.10.6"
  },
  "orig_nbformat": 4,
  "vscode": {
   "interpreter": {
    "hash": "9ad7f758c7f2ebdda2cc4f553f1363ed8fbfe288e0aece9aaf2ec73dff90b611"
   }
  }
 },
 "nbformat": 4,
 "nbformat_minor": 2
}
